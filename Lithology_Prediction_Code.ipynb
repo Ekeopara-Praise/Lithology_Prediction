{
 "cells": [
  {
   "cell_type": "markdown",
   "metadata": {},
   "source": [
    "# Geothermal Well 58-32 Lithology Prediction"
   ]
  },
  {
   "cell_type": "code",
   "execution_count": 1,
   "metadata": {},
   "outputs": [],
   "source": [
    "# import some relevant libraries to begin exploratory analysis of the dataset\n",
    "%matplotlib inline\n",
    "import matplotlib\n",
    "import matplotlib.pyplot as plt\n",
    "import numpy as np\n",
    "import seaborn as sns \n",
    "import pandas as pd\n",
    "from math import ceil\n",
    "from sklearn.metrics import f1_score, precision_score, recall_score, make_scorer"
   ]
  },
  {
   "cell_type": "code",
   "execution_count": 2,
   "metadata": {},
   "outputs": [],
   "source": [
    "# get drilling data\n",
    "drilling = pd.read_csv('Well_58-32_processed_pason_log_drilling data.csv')"
   ]
  },
  {
   "cell_type": "code",
   "execution_count": 3,
   "metadata": {},
   "outputs": [
    {
     "data": {
      "text/html": [
       "<div>\n",
       "<style scoped>\n",
       "    .dataframe tbody tr th:only-of-type {\n",
       "        vertical-align: middle;\n",
       "    }\n",
       "\n",
       "    .dataframe tbody tr th {\n",
       "        vertical-align: top;\n",
       "    }\n",
       "\n",
       "    .dataframe thead th {\n",
       "        text-align: right;\n",
       "    }\n",
       "</style>\n",
       "<table border=\"1\" class=\"dataframe\">\n",
       "  <thead>\n",
       "    <tr style=\"text-align: right;\">\n",
       "      <th></th>\n",
       "      <th>Depth(ft)</th>\n",
       "      <th>Depth(m)</th>\n",
       "      <th>ROP(1 ft)</th>\n",
       "      <th>ROP(1 m)</th>\n",
       "      <th>weight on bit (k-lbs)</th>\n",
       "      <th>weight on bit (kg)</th>\n",
       "      <th>Temp Out( degF)</th>\n",
       "      <th>Temp Out( degC)</th>\n",
       "      <th>Temp In(degF)</th>\n",
       "      <th>Temp In(degC)</th>\n",
       "      <th>...</th>\n",
       "      <th>Surface Torque (KPa)</th>\n",
       "      <th>Rotary Speed (rpm)</th>\n",
       "      <th>Flow In (gal/min)</th>\n",
       "      <th>Flow In(liters/min)</th>\n",
       "      <th>Flow Out %</th>\n",
       "      <th>WH Pressure (psi)</th>\n",
       "      <th>WH Pressure (KPa)</th>\n",
       "      <th>H2S Floor</th>\n",
       "      <th>H2S Cellar</th>\n",
       "      <th>H2S Pits</th>\n",
       "    </tr>\n",
       "  </thead>\n",
       "  <tbody>\n",
       "    <tr>\n",
       "      <th>0</th>\n",
       "      <td>85.18</td>\n",
       "      <td>25.96</td>\n",
       "      <td>56.80</td>\n",
       "      <td>17.31</td>\n",
       "      <td>0.0</td>\n",
       "      <td>0.0</td>\n",
       "      <td>93.49</td>\n",
       "      <td>34.16</td>\n",
       "      <td>90.87</td>\n",
       "      <td>32.71</td>\n",
       "      <td>...</td>\n",
       "      <td>61.57</td>\n",
       "      <td>151.09</td>\n",
       "      <td>1109.58</td>\n",
       "      <td>4200.22</td>\n",
       "      <td>101.61</td>\n",
       "      <td>-1230.69</td>\n",
       "      <td>-8485.61</td>\n",
       "      <td>-0.01</td>\n",
       "      <td>-0.03</td>\n",
       "      <td>0.31</td>\n",
       "    </tr>\n",
       "    <tr>\n",
       "      <th>1</th>\n",
       "      <td>86.18</td>\n",
       "      <td>26.27</td>\n",
       "      <td>61.14</td>\n",
       "      <td>18.63</td>\n",
       "      <td>0.0</td>\n",
       "      <td>0.0</td>\n",
       "      <td>93.52</td>\n",
       "      <td>34.18</td>\n",
       "      <td>90.83</td>\n",
       "      <td>32.68</td>\n",
       "      <td>...</td>\n",
       "      <td>61.57</td>\n",
       "      <td>151.09</td>\n",
       "      <td>1108.36</td>\n",
       "      <td>4195.60</td>\n",
       "      <td>101.70</td>\n",
       "      <td>-1230.69</td>\n",
       "      <td>-8485.61</td>\n",
       "      <td>-0.01</td>\n",
       "      <td>-0.04</td>\n",
       "      <td>0.31</td>\n",
       "    </tr>\n",
       "    <tr>\n",
       "      <th>2</th>\n",
       "      <td>87.23</td>\n",
       "      <td>26.59</td>\n",
       "      <td>18.58</td>\n",
       "      <td>5.66</td>\n",
       "      <td>0.0</td>\n",
       "      <td>0.0</td>\n",
       "      <td>94.25</td>\n",
       "      <td>34.58</td>\n",
       "      <td>90.91</td>\n",
       "      <td>32.73</td>\n",
       "      <td>...</td>\n",
       "      <td>62.12</td>\n",
       "      <td>61.54</td>\n",
       "      <td>1102.87</td>\n",
       "      <td>4174.82</td>\n",
       "      <td>96.81</td>\n",
       "      <td>-1230.69</td>\n",
       "      <td>-8485.61</td>\n",
       "      <td>-0.01</td>\n",
       "      <td>-0.03</td>\n",
       "      <td>0.30</td>\n",
       "    </tr>\n",
       "    <tr>\n",
       "      <th>3</th>\n",
       "      <td>88.26</td>\n",
       "      <td>26.90</td>\n",
       "      <td>38.29</td>\n",
       "      <td>11.67</td>\n",
       "      <td>0.0</td>\n",
       "      <td>0.0</td>\n",
       "      <td>94.44</td>\n",
       "      <td>34.69</td>\n",
       "      <td>91.14</td>\n",
       "      <td>32.86</td>\n",
       "      <td>...</td>\n",
       "      <td>61.85</td>\n",
       "      <td>60.23</td>\n",
       "      <td>1101.04</td>\n",
       "      <td>4167.89</td>\n",
       "      <td>96.67</td>\n",
       "      <td>-1230.69</td>\n",
       "      <td>-8485.61</td>\n",
       "      <td>0.00</td>\n",
       "      <td>-0.03</td>\n",
       "      <td>0.31</td>\n",
       "    </tr>\n",
       "    <tr>\n",
       "      <th>4</th>\n",
       "      <td>89.36</td>\n",
       "      <td>27.24</td>\n",
       "      <td>394.38</td>\n",
       "      <td>120.20</td>\n",
       "      <td>0.0</td>\n",
       "      <td>0.0</td>\n",
       "      <td>94.48</td>\n",
       "      <td>34.71</td>\n",
       "      <td>91.18</td>\n",
       "      <td>32.88</td>\n",
       "      <td>...</td>\n",
       "      <td>61.85</td>\n",
       "      <td>61.75</td>\n",
       "      <td>1102.46</td>\n",
       "      <td>4173.26</td>\n",
       "      <td>96.63</td>\n",
       "      <td>-1230.69</td>\n",
       "      <td>-8485.61</td>\n",
       "      <td>-0.02</td>\n",
       "      <td>-0.02</td>\n",
       "      <td>0.31</td>\n",
       "    </tr>\n",
       "  </tbody>\n",
       "</table>\n",
       "<p>5 rows × 27 columns</p>\n",
       "</div>"
      ],
      "text/plain": [
       "   Depth(ft)  Depth(m)  ROP(1 ft)  ROP(1 m)  weight on bit (k-lbs)  \\\n",
       "0      85.18     25.96      56.80     17.31                    0.0   \n",
       "1      86.18     26.27      61.14     18.63                    0.0   \n",
       "2      87.23     26.59      18.58      5.66                    0.0   \n",
       "3      88.26     26.90      38.29     11.67                    0.0   \n",
       "4      89.36     27.24     394.38    120.20                    0.0   \n",
       "\n",
       "   weight on bit (kg)  Temp Out( degF)  Temp Out( degC)  Temp In(degF)  \\\n",
       "0                 0.0            93.49            34.16          90.87   \n",
       "1                 0.0            93.52            34.18          90.83   \n",
       "2                 0.0            94.25            34.58          90.91   \n",
       "3                 0.0            94.44            34.69          91.14   \n",
       "4                 0.0            94.48            34.71          91.18   \n",
       "\n",
       "   Temp In(degC)  ...  Surface Torque (KPa)  Rotary Speed (rpm)  \\\n",
       "0          32.71  ...                 61.57              151.09   \n",
       "1          32.68  ...                 61.57              151.09   \n",
       "2          32.73  ...                 62.12               61.54   \n",
       "3          32.86  ...                 61.85               60.23   \n",
       "4          32.88  ...                 61.85               61.75   \n",
       "\n",
       "   Flow In (gal/min)  Flow In(liters/min)  Flow Out %  WH Pressure (psi)  \\\n",
       "0            1109.58              4200.22      101.61           -1230.69   \n",
       "1            1108.36              4195.60      101.70           -1230.69   \n",
       "2            1102.87              4174.82       96.81           -1230.69   \n",
       "3            1101.04              4167.89       96.67           -1230.69   \n",
       "4            1102.46              4173.26       96.63           -1230.69   \n",
       "\n",
       "   WH Pressure (KPa)  H2S Floor  H2S Cellar  H2S Pits  \n",
       "0           -8485.61      -0.01       -0.03      0.31  \n",
       "1           -8485.61      -0.01       -0.04      0.31  \n",
       "2           -8485.61      -0.01       -0.03      0.30  \n",
       "3           -8485.61       0.00       -0.03      0.31  \n",
       "4           -8485.61      -0.02       -0.02      0.31  \n",
       "\n",
       "[5 rows x 27 columns]"
      ]
     },
     "execution_count": 3,
     "metadata": {},
     "output_type": "execute_result"
    }
   ],
   "source": [
    "drilling.head()"
   ]
  },
  {
   "cell_type": "code",
   "execution_count": 4,
   "metadata": {},
   "outputs": [
    {
     "data": {
      "text/plain": [
       "Index(['Depth(ft)', 'Depth(m)', 'ROP(1 ft)', 'ROP(1 m)',\n",
       "       'weight on bit (k-lbs)', 'weight on bit (kg)', 'Temp Out( degF)',\n",
       "       'Temp Out( degC)', 'Temp In(degF)', 'Temp In(degC)', 'Pit Total (bbls)',\n",
       "       'Pit Total (m3)', 'Pump Press (psi)', 'Pump Press (KPa)',\n",
       "       'Hookload (k-lbs)', 'Hookload (kg)', 'Surface Torque (psi)',\n",
       "       'Surface Torque (KPa)', 'Rotary Speed (rpm)', 'Flow In (gal/min)',\n",
       "       'Flow In(liters/min)', 'Flow Out %', 'WH Pressure (psi)',\n",
       "       'WH Pressure (KPa)', 'H2S Floor', 'H2S Cellar', 'H2S Pits'],\n",
       "      dtype='object')"
      ]
     },
     "execution_count": 4,
     "metadata": {},
     "output_type": "execute_result"
    }
   ],
   "source": [
    "drilling.columns"
   ]
  },
  {
   "cell_type": "markdown",
   "metadata": {},
   "source": [
    "## Select Required Features\n",
    "- Depth(ft)\n",
    "- ROP(1 ft)\n",
    "- Rotary Speed (rpm)\n",
    "- Surface Torque (psi)\n",
    "- Flow In (gal/min)\n",
    "- Pump Press (psi)"
   ]
  },
  {
   "cell_type": "code",
   "execution_count": 5,
   "metadata": {},
   "outputs": [],
   "source": [
    "drill_df = pd.DataFrame(drilling, columns=['Depth(ft)', 'ROP(1 ft)', 'Rotary Speed (rpm)', \n",
    "                                           'Surface Torque (psi)', 'Flow In (gal/min)', \n",
    "                                           'Pump Press (psi)'])"
   ]
  },
  {
   "cell_type": "code",
   "execution_count": 6,
   "metadata": {
    "scrolled": true
   },
   "outputs": [
    {
     "data": {
      "text/html": [
       "<div>\n",
       "<style scoped>\n",
       "    .dataframe tbody tr th:only-of-type {\n",
       "        vertical-align: middle;\n",
       "    }\n",
       "\n",
       "    .dataframe tbody tr th {\n",
       "        vertical-align: top;\n",
       "    }\n",
       "\n",
       "    .dataframe thead th {\n",
       "        text-align: right;\n",
       "    }\n",
       "</style>\n",
       "<table border=\"1\" class=\"dataframe\">\n",
       "  <thead>\n",
       "    <tr style=\"text-align: right;\">\n",
       "      <th></th>\n",
       "      <th>Depth(ft)</th>\n",
       "      <th>ROP(1 ft)</th>\n",
       "      <th>Rotary Speed (rpm)</th>\n",
       "      <th>Surface Torque (psi)</th>\n",
       "      <th>Flow In (gal/min)</th>\n",
       "      <th>Pump Press (psi)</th>\n",
       "    </tr>\n",
       "  </thead>\n",
       "  <tbody>\n",
       "    <tr>\n",
       "      <th>0</th>\n",
       "      <td>85.18</td>\n",
       "      <td>56.80</td>\n",
       "      <td>151.09</td>\n",
       "      <td>8.93</td>\n",
       "      <td>1109.58</td>\n",
       "      <td>463.72</td>\n",
       "    </tr>\n",
       "    <tr>\n",
       "      <th>1</th>\n",
       "      <td>86.18</td>\n",
       "      <td>61.14</td>\n",
       "      <td>151.09</td>\n",
       "      <td>8.93</td>\n",
       "      <td>1108.36</td>\n",
       "      <td>459.53</td>\n",
       "    </tr>\n",
       "    <tr>\n",
       "      <th>2</th>\n",
       "      <td>87.23</td>\n",
       "      <td>18.58</td>\n",
       "      <td>61.54</td>\n",
       "      <td>9.01</td>\n",
       "      <td>1102.87</td>\n",
       "      <td>454.57</td>\n",
       "    </tr>\n",
       "    <tr>\n",
       "      <th>3</th>\n",
       "      <td>88.26</td>\n",
       "      <td>38.29</td>\n",
       "      <td>60.23</td>\n",
       "      <td>8.97</td>\n",
       "      <td>1101.04</td>\n",
       "      <td>451.14</td>\n",
       "    </tr>\n",
       "    <tr>\n",
       "      <th>4</th>\n",
       "      <td>89.36</td>\n",
       "      <td>394.38</td>\n",
       "      <td>61.75</td>\n",
       "      <td>8.97</td>\n",
       "      <td>1102.46</td>\n",
       "      <td>456.09</td>\n",
       "    </tr>\n",
       "  </tbody>\n",
       "</table>\n",
       "</div>"
      ],
      "text/plain": [
       "   Depth(ft)  ROP(1 ft)  Rotary Speed (rpm)  Surface Torque (psi)  \\\n",
       "0      85.18      56.80              151.09                  8.93   \n",
       "1      86.18      61.14              151.09                  8.93   \n",
       "2      87.23      18.58               61.54                  9.01   \n",
       "3      88.26      38.29               60.23                  8.97   \n",
       "4      89.36     394.38               61.75                  8.97   \n",
       "\n",
       "   Flow In (gal/min)  Pump Press (psi)  \n",
       "0            1109.58            463.72  \n",
       "1            1108.36            459.53  \n",
       "2            1102.87            454.57  \n",
       "3            1101.04            451.14  \n",
       "4            1102.46            456.09  "
      ]
     },
     "execution_count": 6,
     "metadata": {},
     "output_type": "execute_result"
    }
   ],
   "source": [
    "drill_df.head()"
   ]
  },
  {
   "cell_type": "code",
   "execution_count": 7,
   "metadata": {},
   "outputs": [],
   "source": [
    "drill_df = drill_df.rename(columns={'Depth(ft)': 'DEPTH'})"
   ]
  },
  {
   "cell_type": "code",
   "execution_count": 8,
   "metadata": {},
   "outputs": [
    {
     "data": {
      "text/html": [
       "<div>\n",
       "<style scoped>\n",
       "    .dataframe tbody tr th:only-of-type {\n",
       "        vertical-align: middle;\n",
       "    }\n",
       "\n",
       "    .dataframe tbody tr th {\n",
       "        vertical-align: top;\n",
       "    }\n",
       "\n",
       "    .dataframe thead th {\n",
       "        text-align: right;\n",
       "    }\n",
       "</style>\n",
       "<table border=\"1\" class=\"dataframe\">\n",
       "  <thead>\n",
       "    <tr style=\"text-align: right;\">\n",
       "      <th></th>\n",
       "      <th>DEPTH</th>\n",
       "      <th>ROP(1 ft)</th>\n",
       "      <th>Rotary Speed (rpm)</th>\n",
       "      <th>Surface Torque (psi)</th>\n",
       "      <th>Flow In (gal/min)</th>\n",
       "      <th>Pump Press (psi)</th>\n",
       "    </tr>\n",
       "  </thead>\n",
       "  <tbody>\n",
       "    <tr>\n",
       "      <th>0</th>\n",
       "      <td>85.18</td>\n",
       "      <td>56.80</td>\n",
       "      <td>151.09</td>\n",
       "      <td>8.93</td>\n",
       "      <td>1109.58</td>\n",
       "      <td>463.72</td>\n",
       "    </tr>\n",
       "    <tr>\n",
       "      <th>1</th>\n",
       "      <td>86.18</td>\n",
       "      <td>61.14</td>\n",
       "      <td>151.09</td>\n",
       "      <td>8.93</td>\n",
       "      <td>1108.36</td>\n",
       "      <td>459.53</td>\n",
       "    </tr>\n",
       "    <tr>\n",
       "      <th>2</th>\n",
       "      <td>87.23</td>\n",
       "      <td>18.58</td>\n",
       "      <td>61.54</td>\n",
       "      <td>9.01</td>\n",
       "      <td>1102.87</td>\n",
       "      <td>454.57</td>\n",
       "    </tr>\n",
       "    <tr>\n",
       "      <th>3</th>\n",
       "      <td>88.26</td>\n",
       "      <td>38.29</td>\n",
       "      <td>60.23</td>\n",
       "      <td>8.97</td>\n",
       "      <td>1101.04</td>\n",
       "      <td>451.14</td>\n",
       "    </tr>\n",
       "    <tr>\n",
       "      <th>4</th>\n",
       "      <td>89.36</td>\n",
       "      <td>394.38</td>\n",
       "      <td>61.75</td>\n",
       "      <td>8.97</td>\n",
       "      <td>1102.46</td>\n",
       "      <td>456.09</td>\n",
       "    </tr>\n",
       "  </tbody>\n",
       "</table>\n",
       "</div>"
      ],
      "text/plain": [
       "   DEPTH  ROP(1 ft)  Rotary Speed (rpm)  Surface Torque (psi)  \\\n",
       "0  85.18      56.80              151.09                  8.93   \n",
       "1  86.18      61.14              151.09                  8.93   \n",
       "2  87.23      18.58               61.54                  9.01   \n",
       "3  88.26      38.29               60.23                  8.97   \n",
       "4  89.36     394.38               61.75                  8.97   \n",
       "\n",
       "   Flow In (gal/min)  Pump Press (psi)  \n",
       "0            1109.58            463.72  \n",
       "1            1108.36            459.53  \n",
       "2            1102.87            454.57  \n",
       "3            1101.04            451.14  \n",
       "4            1102.46            456.09  "
      ]
     },
     "execution_count": 8,
     "metadata": {},
     "output_type": "execute_result"
    }
   ],
   "source": [
    "drill_df.head()"
   ]
  },
  {
   "cell_type": "markdown",
   "metadata": {},
   "source": [
    "### Converting the depth to the nearest whole number"
   ]
  },
  {
   "cell_type": "code",
   "execution_count": 9,
   "metadata": {},
   "outputs": [],
   "source": [
    "drill_df['DEPTH'] = drill_df['DEPTH'].apply(np.ceil)"
   ]
  },
  {
   "cell_type": "code",
   "execution_count": 10,
   "metadata": {},
   "outputs": [
    {
     "data": {
      "text/html": [
       "<div>\n",
       "<style scoped>\n",
       "    .dataframe tbody tr th:only-of-type {\n",
       "        vertical-align: middle;\n",
       "    }\n",
       "\n",
       "    .dataframe tbody tr th {\n",
       "        vertical-align: top;\n",
       "    }\n",
       "\n",
       "    .dataframe thead th {\n",
       "        text-align: right;\n",
       "    }\n",
       "</style>\n",
       "<table border=\"1\" class=\"dataframe\">\n",
       "  <thead>\n",
       "    <tr style=\"text-align: right;\">\n",
       "      <th></th>\n",
       "      <th>DEPTH</th>\n",
       "      <th>ROP(1 ft)</th>\n",
       "      <th>Rotary Speed (rpm)</th>\n",
       "      <th>Surface Torque (psi)</th>\n",
       "      <th>Flow In (gal/min)</th>\n",
       "      <th>Pump Press (psi)</th>\n",
       "    </tr>\n",
       "  </thead>\n",
       "  <tbody>\n",
       "    <tr>\n",
       "      <th>0</th>\n",
       "      <td>86.0</td>\n",
       "      <td>56.80</td>\n",
       "      <td>151.09</td>\n",
       "      <td>8.93</td>\n",
       "      <td>1109.58</td>\n",
       "      <td>463.72</td>\n",
       "    </tr>\n",
       "    <tr>\n",
       "      <th>1</th>\n",
       "      <td>87.0</td>\n",
       "      <td>61.14</td>\n",
       "      <td>151.09</td>\n",
       "      <td>8.93</td>\n",
       "      <td>1108.36</td>\n",
       "      <td>459.53</td>\n",
       "    </tr>\n",
       "    <tr>\n",
       "      <th>2</th>\n",
       "      <td>88.0</td>\n",
       "      <td>18.58</td>\n",
       "      <td>61.54</td>\n",
       "      <td>9.01</td>\n",
       "      <td>1102.87</td>\n",
       "      <td>454.57</td>\n",
       "    </tr>\n",
       "    <tr>\n",
       "      <th>3</th>\n",
       "      <td>89.0</td>\n",
       "      <td>38.29</td>\n",
       "      <td>60.23</td>\n",
       "      <td>8.97</td>\n",
       "      <td>1101.04</td>\n",
       "      <td>451.14</td>\n",
       "    </tr>\n",
       "    <tr>\n",
       "      <th>4</th>\n",
       "      <td>90.0</td>\n",
       "      <td>394.38</td>\n",
       "      <td>61.75</td>\n",
       "      <td>8.97</td>\n",
       "      <td>1102.46</td>\n",
       "      <td>456.09</td>\n",
       "    </tr>\n",
       "  </tbody>\n",
       "</table>\n",
       "</div>"
      ],
      "text/plain": [
       "   DEPTH  ROP(1 ft)  Rotary Speed (rpm)  Surface Torque (psi)  \\\n",
       "0   86.0      56.80              151.09                  8.93   \n",
       "1   87.0      61.14              151.09                  8.93   \n",
       "2   88.0      18.58               61.54                  9.01   \n",
       "3   89.0      38.29               60.23                  8.97   \n",
       "4   90.0     394.38               61.75                  8.97   \n",
       "\n",
       "   Flow In (gal/min)  Pump Press (psi)  \n",
       "0            1109.58            463.72  \n",
       "1            1108.36            459.53  \n",
       "2            1102.87            454.57  \n",
       "3            1101.04            451.14  \n",
       "4            1102.46            456.09  "
      ]
     },
     "execution_count": 10,
     "metadata": {},
     "output_type": "execute_result"
    }
   ],
   "source": [
    "drill_df.head()"
   ]
  },
  {
   "cell_type": "code",
   "execution_count": 11,
   "metadata": {},
   "outputs": [
    {
     "data": {
      "text/plain": [
       "(7311, 6)"
      ]
     },
     "execution_count": 11,
     "metadata": {},
     "output_type": "execute_result"
    }
   ],
   "source": [
    "drill_df.shape"
   ]
  },
  {
   "cell_type": "code",
   "execution_count": 12,
   "metadata": {},
   "outputs": [],
   "source": [
    "def actual_lithology(data):\n",
    "    global litho\n",
    "    if data['DEPTH'] <= 3176:\n",
    "        litho = 0\n",
    "    elif (data['DEPTH'] >= 3176) & (data['DEPTH']  <= 3195):\n",
    "        litho = 1\n",
    "    elif (data['DEPTH'] >= 3196) & (data['DEPTH']  <= 7536):\n",
    "        litho = 2\n",
    "    return litho"
   ]
  },
  {
   "cell_type": "code",
   "execution_count": 13,
   "metadata": {},
   "outputs": [
    {
     "data": {
      "text/html": [
       "<div>\n",
       "<style scoped>\n",
       "    .dataframe tbody tr th:only-of-type {\n",
       "        vertical-align: middle;\n",
       "    }\n",
       "\n",
       "    .dataframe tbody tr th {\n",
       "        vertical-align: top;\n",
       "    }\n",
       "\n",
       "    .dataframe thead th {\n",
       "        text-align: right;\n",
       "    }\n",
       "</style>\n",
       "<table border=\"1\" class=\"dataframe\">\n",
       "  <thead>\n",
       "    <tr style=\"text-align: right;\">\n",
       "      <th></th>\n",
       "      <th>DEPTH</th>\n",
       "      <th>ROP(1 ft)</th>\n",
       "      <th>Rotary Speed (rpm)</th>\n",
       "      <th>Surface Torque (psi)</th>\n",
       "      <th>Flow In (gal/min)</th>\n",
       "      <th>Pump Press (psi)</th>\n",
       "    </tr>\n",
       "  </thead>\n",
       "  <tbody>\n",
       "    <tr>\n",
       "      <th>0</th>\n",
       "      <td>86.0</td>\n",
       "      <td>56.80</td>\n",
       "      <td>151.09</td>\n",
       "      <td>8.93</td>\n",
       "      <td>1109.58</td>\n",
       "      <td>463.72</td>\n",
       "    </tr>\n",
       "    <tr>\n",
       "      <th>1</th>\n",
       "      <td>87.0</td>\n",
       "      <td>61.14</td>\n",
       "      <td>151.09</td>\n",
       "      <td>8.93</td>\n",
       "      <td>1108.36</td>\n",
       "      <td>459.53</td>\n",
       "    </tr>\n",
       "    <tr>\n",
       "      <th>2</th>\n",
       "      <td>88.0</td>\n",
       "      <td>18.58</td>\n",
       "      <td>61.54</td>\n",
       "      <td>9.01</td>\n",
       "      <td>1102.87</td>\n",
       "      <td>454.57</td>\n",
       "    </tr>\n",
       "    <tr>\n",
       "      <th>3</th>\n",
       "      <td>89.0</td>\n",
       "      <td>38.29</td>\n",
       "      <td>60.23</td>\n",
       "      <td>8.97</td>\n",
       "      <td>1101.04</td>\n",
       "      <td>451.14</td>\n",
       "    </tr>\n",
       "    <tr>\n",
       "      <th>4</th>\n",
       "      <td>90.0</td>\n",
       "      <td>394.38</td>\n",
       "      <td>61.75</td>\n",
       "      <td>8.97</td>\n",
       "      <td>1102.46</td>\n",
       "      <td>456.09</td>\n",
       "    </tr>\n",
       "  </tbody>\n",
       "</table>\n",
       "</div>"
      ],
      "text/plain": [
       "   DEPTH  ROP(1 ft)  Rotary Speed (rpm)  Surface Torque (psi)  \\\n",
       "0   86.0      56.80              151.09                  8.93   \n",
       "1   87.0      61.14              151.09                  8.93   \n",
       "2   88.0      18.58               61.54                  9.01   \n",
       "3   89.0      38.29               60.23                  8.97   \n",
       "4   90.0     394.38               61.75                  8.97   \n",
       "\n",
       "   Flow In (gal/min)  Pump Press (psi)  \n",
       "0            1109.58            463.72  \n",
       "1            1108.36            459.53  \n",
       "2            1102.87            454.57  \n",
       "3            1101.04            451.14  \n",
       "4            1102.46            456.09  "
      ]
     },
     "execution_count": 13,
     "metadata": {},
     "output_type": "execute_result"
    }
   ],
   "source": [
    "drill_df.head()"
   ]
  },
  {
   "cell_type": "code",
   "execution_count": 14,
   "metadata": {},
   "outputs": [
    {
     "data": {
      "text/plain": [
       "(7311, 6)"
      ]
     },
     "execution_count": 14,
     "metadata": {},
     "output_type": "execute_result"
    }
   ],
   "source": [
    "drill_df.shape"
   ]
  },
  {
   "cell_type": "code",
   "execution_count": 15,
   "metadata": {
    "scrolled": true
   },
   "outputs": [
    {
     "data": {
      "text/plain": [
       "30"
      ]
     },
     "execution_count": 15,
     "metadata": {},
     "output_type": "execute_result"
    }
   ],
   "source": [
    "drill_df.duplicated().sum()"
   ]
  },
  {
   "cell_type": "code",
   "execution_count": 16,
   "metadata": {},
   "outputs": [],
   "source": [
    "drill_df.drop_duplicates(subset='DEPTH',\n",
    "                        keep=False, inplace=True)"
   ]
  },
  {
   "cell_type": "code",
   "execution_count": 17,
   "metadata": {},
   "outputs": [
    {
     "data": {
      "text/plain": [
       "(7235, 6)"
      ]
     },
     "execution_count": 17,
     "metadata": {},
     "output_type": "execute_result"
    }
   ],
   "source": [
    "drill_df.shape"
   ]
  },
  {
   "cell_type": "markdown",
   "metadata": {},
   "source": [
    "### We now Apply the function"
   ]
  },
  {
   "cell_type": "code",
   "execution_count": 18,
   "metadata": {},
   "outputs": [],
   "source": [
    "drill_df['Lithology'] = drill_df.apply(actual_lithology, axis=1)"
   ]
  },
  {
   "cell_type": "code",
   "execution_count": 19,
   "metadata": {},
   "outputs": [
    {
     "data": {
      "text/plain": [
       "(7235, 7)"
      ]
     },
     "execution_count": 19,
     "metadata": {},
     "output_type": "execute_result"
    }
   ],
   "source": [
    "drill_df.shape"
   ]
  },
  {
   "cell_type": "code",
   "execution_count": 20,
   "metadata": {},
   "outputs": [],
   "source": [
    "drill_df = drill_df[drill_df['Lithology'] != 1]"
   ]
  },
  {
   "cell_type": "code",
   "execution_count": 21,
   "metadata": {},
   "outputs": [
    {
     "data": {
      "text/plain": [
       "(7219, 7)"
      ]
     },
     "execution_count": 21,
     "metadata": {},
     "output_type": "execute_result"
    }
   ],
   "source": [
    "drill_df.shape"
   ]
  },
  {
   "cell_type": "code",
   "execution_count": 22,
   "metadata": {
    "scrolled": false
   },
   "outputs": [
    {
     "data": {
      "text/plain": [
       "2    4253\n",
       "0    2966\n",
       "Name: Lithology, dtype: int64"
      ]
     },
     "execution_count": 22,
     "metadata": {},
     "output_type": "execute_result"
    }
   ],
   "source": [
    "drill_df.Lithology.value_counts()"
   ]
  },
  {
   "cell_type": "code",
   "execution_count": 23,
   "metadata": {
    "scrolled": true
   },
   "outputs": [
    {
     "data": {
      "text/html": [
       "<div>\n",
       "<style scoped>\n",
       "    .dataframe tbody tr th:only-of-type {\n",
       "        vertical-align: middle;\n",
       "    }\n",
       "\n",
       "    .dataframe tbody tr th {\n",
       "        vertical-align: top;\n",
       "    }\n",
       "\n",
       "    .dataframe thead th {\n",
       "        text-align: right;\n",
       "    }\n",
       "</style>\n",
       "<table border=\"1\" class=\"dataframe\">\n",
       "  <thead>\n",
       "    <tr style=\"text-align: right;\">\n",
       "      <th></th>\n",
       "      <th>DEPTH</th>\n",
       "      <th>ROP(1 ft)</th>\n",
       "      <th>Rotary Speed (rpm)</th>\n",
       "      <th>Surface Torque (psi)</th>\n",
       "      <th>Flow In (gal/min)</th>\n",
       "      <th>Pump Press (psi)</th>\n",
       "      <th>Lithology</th>\n",
       "    </tr>\n",
       "  </thead>\n",
       "  <tbody>\n",
       "    <tr>\n",
       "      <th>0</th>\n",
       "      <td>86.0</td>\n",
       "      <td>56.80</td>\n",
       "      <td>151.09</td>\n",
       "      <td>8.93</td>\n",
       "      <td>1109.58</td>\n",
       "      <td>463.72</td>\n",
       "      <td>0</td>\n",
       "    </tr>\n",
       "    <tr>\n",
       "      <th>1</th>\n",
       "      <td>87.0</td>\n",
       "      <td>61.14</td>\n",
       "      <td>151.09</td>\n",
       "      <td>8.93</td>\n",
       "      <td>1108.36</td>\n",
       "      <td>459.53</td>\n",
       "      <td>0</td>\n",
       "    </tr>\n",
       "    <tr>\n",
       "      <th>2</th>\n",
       "      <td>88.0</td>\n",
       "      <td>18.58</td>\n",
       "      <td>61.54</td>\n",
       "      <td>9.01</td>\n",
       "      <td>1102.87</td>\n",
       "      <td>454.57</td>\n",
       "      <td>0</td>\n",
       "    </tr>\n",
       "    <tr>\n",
       "      <th>3</th>\n",
       "      <td>89.0</td>\n",
       "      <td>38.29</td>\n",
       "      <td>60.23</td>\n",
       "      <td>8.97</td>\n",
       "      <td>1101.04</td>\n",
       "      <td>451.14</td>\n",
       "      <td>0</td>\n",
       "    </tr>\n",
       "    <tr>\n",
       "      <th>4</th>\n",
       "      <td>90.0</td>\n",
       "      <td>394.38</td>\n",
       "      <td>61.75</td>\n",
       "      <td>8.97</td>\n",
       "      <td>1102.46</td>\n",
       "      <td>456.09</td>\n",
       "      <td>0</td>\n",
       "    </tr>\n",
       "  </tbody>\n",
       "</table>\n",
       "</div>"
      ],
      "text/plain": [
       "   DEPTH  ROP(1 ft)  Rotary Speed (rpm)  Surface Torque (psi)  \\\n",
       "0   86.0      56.80              151.09                  8.93   \n",
       "1   87.0      61.14              151.09                  8.93   \n",
       "2   88.0      18.58               61.54                  9.01   \n",
       "3   89.0      38.29               60.23                  8.97   \n",
       "4   90.0     394.38               61.75                  8.97   \n",
       "\n",
       "   Flow In (gal/min)  Pump Press (psi)  Lithology  \n",
       "0            1109.58            463.72          0  \n",
       "1            1108.36            459.53          0  \n",
       "2            1102.87            454.57          0  \n",
       "3            1101.04            451.14          0  \n",
       "4            1102.46            456.09          0  "
      ]
     },
     "execution_count": 23,
     "metadata": {},
     "output_type": "execute_result"
    }
   ],
   "source": [
    "drill_df.head()"
   ]
  },
  {
   "cell_type": "code",
   "execution_count": 24,
   "metadata": {},
   "outputs": [
    {
     "data": {
      "text/plain": [
       "DEPTH                   0\n",
       "ROP(1 ft)               0\n",
       "Rotary Speed (rpm)      0\n",
       "Surface Torque (psi)    0\n",
       "Flow In (gal/min)       0\n",
       "Pump Press (psi)        0\n",
       "Lithology               0\n",
       "dtype: int64"
      ]
     },
     "execution_count": 24,
     "metadata": {},
     "output_type": "execute_result"
    }
   ],
   "source": [
    "drill_df.isna().sum()"
   ]
  },
  {
   "cell_type": "markdown",
   "metadata": {},
   "source": [
    "# Getting the data"
   ]
  },
  {
   "cell_type": "code",
   "execution_count": 25,
   "metadata": {},
   "outputs": [
    {
     "data": {
      "text/html": [
       "<div>\n",
       "<style scoped>\n",
       "    .dataframe tbody tr th:only-of-type {\n",
       "        vertical-align: middle;\n",
       "    }\n",
       "\n",
       "    .dataframe tbody tr th {\n",
       "        vertical-align: top;\n",
       "    }\n",
       "\n",
       "    .dataframe thead th {\n",
       "        text-align: right;\n",
       "    }\n",
       "</style>\n",
       "<table border=\"1\" class=\"dataframe\">\n",
       "  <thead>\n",
       "    <tr style=\"text-align: right;\">\n",
       "      <th></th>\n",
       "      <th>ROP(1 ft)</th>\n",
       "      <th>Rotary Speed (rpm)</th>\n",
       "      <th>Surface Torque (psi)</th>\n",
       "      <th>Flow In (gal/min)</th>\n",
       "      <th>Pump Press (psi)</th>\n",
       "      <th>Lithology</th>\n",
       "    </tr>\n",
       "  </thead>\n",
       "  <tbody>\n",
       "    <tr>\n",
       "      <th>0</th>\n",
       "      <td>56.80</td>\n",
       "      <td>151.09</td>\n",
       "      <td>8.93</td>\n",
       "      <td>1109.58</td>\n",
       "      <td>463.72</td>\n",
       "      <td>0</td>\n",
       "    </tr>\n",
       "    <tr>\n",
       "      <th>1</th>\n",
       "      <td>61.14</td>\n",
       "      <td>151.09</td>\n",
       "      <td>8.93</td>\n",
       "      <td>1108.36</td>\n",
       "      <td>459.53</td>\n",
       "      <td>0</td>\n",
       "    </tr>\n",
       "    <tr>\n",
       "      <th>2</th>\n",
       "      <td>18.58</td>\n",
       "      <td>61.54</td>\n",
       "      <td>9.01</td>\n",
       "      <td>1102.87</td>\n",
       "      <td>454.57</td>\n",
       "      <td>0</td>\n",
       "    </tr>\n",
       "    <tr>\n",
       "      <th>3</th>\n",
       "      <td>38.29</td>\n",
       "      <td>60.23</td>\n",
       "      <td>8.97</td>\n",
       "      <td>1101.04</td>\n",
       "      <td>451.14</td>\n",
       "      <td>0</td>\n",
       "    </tr>\n",
       "    <tr>\n",
       "      <th>4</th>\n",
       "      <td>394.38</td>\n",
       "      <td>61.75</td>\n",
       "      <td>8.97</td>\n",
       "      <td>1102.46</td>\n",
       "      <td>456.09</td>\n",
       "      <td>0</td>\n",
       "    </tr>\n",
       "  </tbody>\n",
       "</table>\n",
       "</div>"
      ],
      "text/plain": [
       "   ROP(1 ft)  Rotary Speed (rpm)  Surface Torque (psi)  Flow In (gal/min)  \\\n",
       "0      56.80              151.09                  8.93            1109.58   \n",
       "1      61.14              151.09                  8.93            1108.36   \n",
       "2      18.58               61.54                  9.01            1102.87   \n",
       "3      38.29               60.23                  8.97            1101.04   \n",
       "4     394.38               61.75                  8.97            1102.46   \n",
       "\n",
       "   Pump Press (psi)  Lithology  \n",
       "0            463.72          0  \n",
       "1            459.53          0  \n",
       "2            454.57          0  \n",
       "3            451.14          0  \n",
       "4            456.09          0  "
      ]
     },
     "execution_count": 25,
     "metadata": {},
     "output_type": "execute_result"
    }
   ],
   "source": [
    "drill_df = drill_df.iloc[:, 1:]\n",
    "drill_df.head()"
   ]
  },
  {
   "cell_type": "code",
   "execution_count": 26,
   "metadata": {},
   "outputs": [
    {
     "data": {
      "text/html": [
       "<div>\n",
       "<style scoped>\n",
       "    .dataframe tbody tr th:only-of-type {\n",
       "        vertical-align: middle;\n",
       "    }\n",
       "\n",
       "    .dataframe tbody tr th {\n",
       "        vertical-align: top;\n",
       "    }\n",
       "\n",
       "    .dataframe thead th {\n",
       "        text-align: right;\n",
       "    }\n",
       "</style>\n",
       "<table border=\"1\" class=\"dataframe\">\n",
       "  <thead>\n",
       "    <tr style=\"text-align: right;\">\n",
       "      <th></th>\n",
       "      <th>ROP(1 ft)</th>\n",
       "      <th>Rotary Speed (rpm)</th>\n",
       "      <th>Surface Torque (psi)</th>\n",
       "      <th>Flow In (gal/min)</th>\n",
       "      <th>Pump Press (psi)</th>\n",
       "      <th>Lithology</th>\n",
       "    </tr>\n",
       "  </thead>\n",
       "  <tbody>\n",
       "    <tr>\n",
       "      <th>count</th>\n",
       "      <td>7219.000000</td>\n",
       "      <td>7219.000000</td>\n",
       "      <td>7219.000000</td>\n",
       "      <td>7219.000000</td>\n",
       "      <td>7219.000000</td>\n",
       "      <td>7219.000000</td>\n",
       "    </tr>\n",
       "    <tr>\n",
       "      <th>mean</th>\n",
       "      <td>42.184445</td>\n",
       "      <td>55.054532</td>\n",
       "      <td>131.137777</td>\n",
       "      <td>716.797295</td>\n",
       "      <td>1264.709654</td>\n",
       "      <td>1.178280</td>\n",
       "    </tr>\n",
       "    <tr>\n",
       "      <th>std</th>\n",
       "      <td>76.324401</td>\n",
       "      <td>25.960267</td>\n",
       "      <td>48.445601</td>\n",
       "      <td>141.617352</td>\n",
       "      <td>490.935093</td>\n",
       "      <td>0.984048</td>\n",
       "    </tr>\n",
       "    <tr>\n",
       "      <th>min</th>\n",
       "      <td>0.000000</td>\n",
       "      <td>0.000000</td>\n",
       "      <td>0.000000</td>\n",
       "      <td>0.000000</td>\n",
       "      <td>19.940000</td>\n",
       "      <td>0.000000</td>\n",
       "    </tr>\n",
       "    <tr>\n",
       "      <th>25%</th>\n",
       "      <td>11.430000</td>\n",
       "      <td>38.120000</td>\n",
       "      <td>117.020000</td>\n",
       "      <td>620.260000</td>\n",
       "      <td>664.450000</td>\n",
       "      <td>0.000000</td>\n",
       "    </tr>\n",
       "    <tr>\n",
       "      <th>50%</th>\n",
       "      <td>18.000000</td>\n",
       "      <td>50.380000</td>\n",
       "      <td>140.390000</td>\n",
       "      <td>700.230000</td>\n",
       "      <td>1430.520000</td>\n",
       "      <td>2.000000</td>\n",
       "    </tr>\n",
       "    <tr>\n",
       "      <th>75%</th>\n",
       "      <td>44.505000</td>\n",
       "      <td>76.100000</td>\n",
       "      <td>157.280000</td>\n",
       "      <td>825.615000</td>\n",
       "      <td>1669.680000</td>\n",
       "      <td>2.000000</td>\n",
       "    </tr>\n",
       "    <tr>\n",
       "      <th>max</th>\n",
       "      <td>2977.910000</td>\n",
       "      <td>271.580000</td>\n",
       "      <td>273.710000</td>\n",
       "      <td>3317.510000</td>\n",
       "      <td>2200.430000</td>\n",
       "      <td>2.000000</td>\n",
       "    </tr>\n",
       "  </tbody>\n",
       "</table>\n",
       "</div>"
      ],
      "text/plain": [
       "         ROP(1 ft)  Rotary Speed (rpm)  Surface Torque (psi)  \\\n",
       "count  7219.000000         7219.000000           7219.000000   \n",
       "mean     42.184445           55.054532            131.137777   \n",
       "std      76.324401           25.960267             48.445601   \n",
       "min       0.000000            0.000000              0.000000   \n",
       "25%      11.430000           38.120000            117.020000   \n",
       "50%      18.000000           50.380000            140.390000   \n",
       "75%      44.505000           76.100000            157.280000   \n",
       "max    2977.910000          271.580000            273.710000   \n",
       "\n",
       "       Flow In (gal/min)  Pump Press (psi)    Lithology  \n",
       "count        7219.000000       7219.000000  7219.000000  \n",
       "mean          716.797295       1264.709654     1.178280  \n",
       "std           141.617352        490.935093     0.984048  \n",
       "min             0.000000         19.940000     0.000000  \n",
       "25%           620.260000        664.450000     0.000000  \n",
       "50%           700.230000       1430.520000     2.000000  \n",
       "75%           825.615000       1669.680000     2.000000  \n",
       "max          3317.510000       2200.430000     2.000000  "
      ]
     },
     "execution_count": 26,
     "metadata": {},
     "output_type": "execute_result"
    }
   ],
   "source": [
    "drill_df.describe()"
   ]
  },
  {
   "cell_type": "code",
   "execution_count": 27,
   "metadata": {},
   "outputs": [
    {
     "data": {
      "image/png": "[encoded data removed]",
      "text/plain": [
       "<Figure size 1080x720 with 2 Axes>"
      ]
     },
     "metadata": {
      "needs_background": "light"
     },
     "output_type": "display_data"
    }
   ],
   "source": [
    "# make a correlation plot (heatmap)\n",
    "corr_mx = drill_df.corr()\n",
    "f, ax = plt.subplots(figsize=(15,10)) \n",
    "ax = sns.heatmap(corr_mx, annot=True, annot_kws={'size':15}, cmap='Blues_r')"
   ]
  },
  {
   "cell_type": "markdown",
   "metadata": {},
   "source": [
    "### Training, Validation and Testing Data"
   ]
  },
  {
   "cell_type": "markdown",
   "metadata": {},
   "source": [
    "We will be using 500 rows (first 250 observations and last 250 observations) for the Testing, which will be kept aside, then use the remaining data for the training and validation set. "
   ]
  },
  {
   "cell_type": "code",
   "execution_count": 28,
   "metadata": {},
   "outputs": [],
   "source": [
    "dfTop_250 = drill_df.head(n=250) # first 250 observations\n",
    "dfDown_250 = drill_df.tail(n=250) # last 250 observations\n",
    "\n",
    "n = dfTop_250.index[-1] - 1 # index for first obervation training data \n",
    "m = dfDown_250.index[0] # index for first obervation training data\n",
    "\n",
    "df_train = drill_df.iloc[n:m, :] # remaining data for training and validation"
   ]
  },
  {
   "cell_type": "code",
   "execution_count": 29,
   "metadata": {
    "scrolled": false
   },
   "outputs": [
    {
     "data": {
      "text/plain": [
       "(250, 7059)"
      ]
     },
     "execution_count": 29,
     "metadata": {},
     "output_type": "execute_result"
    }
   ],
   "source": [
    "n, m # evaluation of the index"
   ]
  },
  {
   "cell_type": "code",
   "execution_count": 31,
   "metadata": {
    "scrolled": false
   },
   "outputs": [
    {
     "data": {
      "text/html": [
       "<div>\n",
       "<style scoped>\n",
       "    .dataframe tbody tr th:only-of-type {\n",
       "        vertical-align: middle;\n",
       "    }\n",
       "\n",
       "    .dataframe tbody tr th {\n",
       "        vertical-align: top;\n",
       "    }\n",
       "\n",
       "    .dataframe thead th {\n",
       "        text-align: right;\n",
       "    }\n",
       "</style>\n",
       "<table border=\"1\" class=\"dataframe\">\n",
       "  <thead>\n",
       "    <tr style=\"text-align: right;\">\n",
       "      <th></th>\n",
       "      <th>ROP(1 ft)</th>\n",
       "      <th>Rotary Speed (rpm)</th>\n",
       "      <th>Surface Torque (psi)</th>\n",
       "      <th>Flow In (gal/min)</th>\n",
       "      <th>Pump Press (psi)</th>\n",
       "      <th>Lithology</th>\n",
       "    </tr>\n",
       "  </thead>\n",
       "  <tbody>\n",
       "    <tr>\n",
       "      <th>0</th>\n",
       "      <td>56.80</td>\n",
       "      <td>151.09</td>\n",
       "      <td>8.93</td>\n",
       "      <td>1109.58</td>\n",
       "      <td>463.72</td>\n",
       "      <td>0</td>\n",
       "    </tr>\n",
       "    <tr>\n",
       "      <th>1</th>\n",
       "      <td>61.14</td>\n",
       "      <td>151.09</td>\n",
       "      <td>8.93</td>\n",
       "      <td>1108.36</td>\n",
       "      <td>459.53</td>\n",
       "      <td>0</td>\n",
       "    </tr>\n",
       "    <tr>\n",
       "      <th>2</th>\n",
       "      <td>18.58</td>\n",
       "      <td>61.54</td>\n",
       "      <td>9.01</td>\n",
       "      <td>1102.87</td>\n",
       "      <td>454.57</td>\n",
       "      <td>0</td>\n",
       "    </tr>\n",
       "    <tr>\n",
       "      <th>3</th>\n",
       "      <td>38.29</td>\n",
       "      <td>60.23</td>\n",
       "      <td>8.97</td>\n",
       "      <td>1101.04</td>\n",
       "      <td>451.14</td>\n",
       "      <td>0</td>\n",
       "    </tr>\n",
       "    <tr>\n",
       "      <th>4</th>\n",
       "      <td>394.38</td>\n",
       "      <td>61.75</td>\n",
       "      <td>8.97</td>\n",
       "      <td>1102.46</td>\n",
       "      <td>456.09</td>\n",
       "      <td>0</td>\n",
       "    </tr>\n",
       "  </tbody>\n",
       "</table>\n",
       "</div>"
      ],
      "text/plain": [
       "   ROP(1 ft)  Rotary Speed (rpm)  Surface Torque (psi)  Flow In (gal/min)  \\\n",
       "0      56.80              151.09                  8.93            1109.58   \n",
       "1      61.14              151.09                  8.93            1108.36   \n",
       "2      18.58               61.54                  9.01            1102.87   \n",
       "3      38.29               60.23                  8.97            1101.04   \n",
       "4     394.38               61.75                  8.97            1102.46   \n",
       "\n",
       "   Pump Press (psi)  Lithology  \n",
       "0            463.72          0  \n",
       "1            459.53          0  \n",
       "2            454.57          0  \n",
       "3            451.14          0  \n",
       "4            456.09          0  "
      ]
     },
     "execution_count": 31,
     "metadata": {},
     "output_type": "execute_result"
    }
   ],
   "source": [
    "dfTop_250.head() # display the data"
   ]
  },
  {
   "cell_type": "code",
   "execution_count": 32,
   "metadata": {
    "scrolled": false
   },
   "outputs": [
    {
     "data": {
      "text/html": [
       "<div>\n",
       "<style scoped>\n",
       "    .dataframe tbody tr th:only-of-type {\n",
       "        vertical-align: middle;\n",
       "    }\n",
       "\n",
       "    .dataframe tbody tr th {\n",
       "        vertical-align: top;\n",
       "    }\n",
       "\n",
       "    .dataframe thead th {\n",
       "        text-align: right;\n",
       "    }\n",
       "</style>\n",
       "<table border=\"1\" class=\"dataframe\">\n",
       "  <thead>\n",
       "    <tr style=\"text-align: right;\">\n",
       "      <th></th>\n",
       "      <th>ROP(1 ft)</th>\n",
       "      <th>Rotary Speed (rpm)</th>\n",
       "      <th>Surface Torque (psi)</th>\n",
       "      <th>Flow In (gal/min)</th>\n",
       "      <th>Pump Press (psi)</th>\n",
       "      <th>Lithology</th>\n",
       "    </tr>\n",
       "  </thead>\n",
       "  <tbody>\n",
       "    <tr>\n",
       "      <th>7059</th>\n",
       "      <td>17.56</td>\n",
       "      <td>25.61</td>\n",
       "      <td>158.12</td>\n",
       "      <td>610.16</td>\n",
       "      <td>1745.46</td>\n",
       "      <td>2</td>\n",
       "    </tr>\n",
       "  </tbody>\n",
       "</table>\n",
       "</div>"
      ],
      "text/plain": [
       "      ROP(1 ft)  Rotary Speed (rpm)  Surface Torque (psi)  Flow In (gal/min)  \\\n",
       "7059      17.56               25.61                158.12             610.16   \n",
       "\n",
       "      Pump Press (psi)  Lithology  \n",
       "7059           1745.46          2  "
      ]
     },
     "execution_count": 32,
     "metadata": {},
     "output_type": "execute_result"
    }
   ],
   "source": [
    "dfDown_250.head(1)  # display the data"
   ]
  },
  {
   "cell_type": "code",
   "execution_count": 33,
   "metadata": {},
   "outputs": [
    {
     "data": {
      "text/html": [
       "<div>\n",
       "<style scoped>\n",
       "    .dataframe tbody tr th:only-of-type {\n",
       "        vertical-align: middle;\n",
       "    }\n",
       "\n",
       "    .dataframe tbody tr th {\n",
       "        vertical-align: top;\n",
       "    }\n",
       "\n",
       "    .dataframe thead th {\n",
       "        text-align: right;\n",
       "    }\n",
       "</style>\n",
       "<table border=\"1\" class=\"dataframe\">\n",
       "  <thead>\n",
       "    <tr style=\"text-align: right;\">\n",
       "      <th></th>\n",
       "      <th>ROP(1 ft)</th>\n",
       "      <th>Rotary Speed (rpm)</th>\n",
       "      <th>Surface Torque (psi)</th>\n",
       "      <th>Flow In (gal/min)</th>\n",
       "      <th>Pump Press (psi)</th>\n",
       "      <th>Lithology</th>\n",
       "    </tr>\n",
       "  </thead>\n",
       "  <tbody>\n",
       "    <tr>\n",
       "      <th>252</th>\n",
       "      <td>794.88</td>\n",
       "      <td>271.58</td>\n",
       "      <td>6.87</td>\n",
       "      <td>1043.14</td>\n",
       "      <td>462.19</td>\n",
       "      <td>0</td>\n",
       "    </tr>\n",
       "  </tbody>\n",
       "</table>\n",
       "</div>"
      ],
      "text/plain": [
       "     ROP(1 ft)  Rotary Speed (rpm)  Surface Torque (psi)  Flow In (gal/min)  \\\n",
       "252     794.88              271.58                  6.87            1043.14   \n",
       "\n",
       "     Pump Press (psi)  Lithology  \n",
       "252            462.19          0  "
      ]
     },
     "execution_count": 33,
     "metadata": {},
     "output_type": "execute_result"
    }
   ],
   "source": [
    "df_train.head(1)  # display the data"
   ]
  },
  {
   "cell_type": "code",
   "execution_count": 34,
   "metadata": {},
   "outputs": [],
   "source": [
    "df_test = dfTop_250.append(dfDown_250, ignore_index=True) # display the data"
   ]
  },
  {
   "cell_type": "code",
   "execution_count": 35,
   "metadata": {},
   "outputs": [
    {
     "data": {
      "text/html": [
       "<div>\n",
       "<style scoped>\n",
       "    .dataframe tbody tr th:only-of-type {\n",
       "        vertical-align: middle;\n",
       "    }\n",
       "\n",
       "    .dataframe tbody tr th {\n",
       "        vertical-align: top;\n",
       "    }\n",
       "\n",
       "    .dataframe thead th {\n",
       "        text-align: right;\n",
       "    }\n",
       "</style>\n",
       "<table border=\"1\" class=\"dataframe\">\n",
       "  <thead>\n",
       "    <tr style=\"text-align: right;\">\n",
       "      <th></th>\n",
       "      <th>ROP(1 ft)</th>\n",
       "      <th>Rotary Speed (rpm)</th>\n",
       "      <th>Surface Torque (psi)</th>\n",
       "      <th>Flow In (gal/min)</th>\n",
       "      <th>Pump Press (psi)</th>\n",
       "      <th>Lithology</th>\n",
       "    </tr>\n",
       "  </thead>\n",
       "  <tbody>\n",
       "    <tr>\n",
       "      <th>495</th>\n",
       "      <td>10.81</td>\n",
       "      <td>34.91</td>\n",
       "      <td>152.25</td>\n",
       "      <td>609.49</td>\n",
       "      <td>1549.23</td>\n",
       "      <td>2</td>\n",
       "    </tr>\n",
       "    <tr>\n",
       "      <th>496</th>\n",
       "      <td>13.51</td>\n",
       "      <td>34.78</td>\n",
       "      <td>150.91</td>\n",
       "      <td>615.09</td>\n",
       "      <td>1565.90</td>\n",
       "      <td>2</td>\n",
       "    </tr>\n",
       "    <tr>\n",
       "      <th>497</th>\n",
       "      <td>12.62</td>\n",
       "      <td>34.72</td>\n",
       "      <td>153.73</td>\n",
       "      <td>635.76</td>\n",
       "      <td>1506.81</td>\n",
       "      <td>2</td>\n",
       "    </tr>\n",
       "    <tr>\n",
       "      <th>498</th>\n",
       "      <td>14.72</td>\n",
       "      <td>36.49</td>\n",
       "      <td>145.00</td>\n",
       "      <td>627.15</td>\n",
       "      <td>1408.32</td>\n",
       "      <td>2</td>\n",
       "    </tr>\n",
       "    <tr>\n",
       "      <th>499</th>\n",
       "      <td>12.97</td>\n",
       "      <td>34.06</td>\n",
       "      <td>148.66</td>\n",
       "      <td>988.39</td>\n",
       "      <td>1396.19</td>\n",
       "      <td>2</td>\n",
       "    </tr>\n",
       "  </tbody>\n",
       "</table>\n",
       "</div>"
      ],
      "text/plain": [
       "     ROP(1 ft)  Rotary Speed (rpm)  Surface Torque (psi)  Flow In (gal/min)  \\\n",
       "495      10.81               34.91                152.25             609.49   \n",
       "496      13.51               34.78                150.91             615.09   \n",
       "497      12.62               34.72                153.73             635.76   \n",
       "498      14.72               36.49                145.00             627.15   \n",
       "499      12.97               34.06                148.66             988.39   \n",
       "\n",
       "     Pump Press (psi)  Lithology  \n",
       "495           1549.23          2  \n",
       "496           1565.90          2  \n",
       "497           1506.81          2  \n",
       "498           1408.32          2  \n",
       "499           1396.19          2  "
      ]
     },
     "execution_count": 35,
     "metadata": {},
     "output_type": "execute_result"
    }
   ],
   "source": [
    "df_test.tail()"
   ]
  },
  {
   "cell_type": "code",
   "execution_count": 36,
   "metadata": {
    "scrolled": false
   },
   "outputs": [],
   "source": [
    "#Create a function to plot box plots of the respective numerical features against the target label\n",
    "#columns = drill_df.columns[1:-1]\n",
    "def plot_boxplots(df_log, cols):\n",
    "    for col in cols:\n",
    "        plt.figure(figsize = (7,5))\n",
    "        sns.boxplot(col, data=df_log, palette=\"Set1\")\n",
    "        plt.show()\n",
    "\n",
    "#plot_boxplots(drill_df, columns)"
   ]
  },
  {
   "cell_type": "code",
   "execution_count": 37,
   "metadata": {},
   "outputs": [],
   "source": [
    "# Feature scaling\n",
    "from sklearn.preprocessing import MinMaxScaler\n",
    "def MinMax(data):\n",
    "    mm_scaler = MinMaxScaler() # mm_scaler is the model name\n",
    "    df_mm = mm_scaler.fit_transform(data)\n",
    "    df_mm = pd.DataFrame(df_mm, columns=data.columns)\n",
    "    return df_mm"
   ]
  },
  {
   "cell_type": "code",
   "execution_count": 38,
   "metadata": {},
   "outputs": [
    {
     "data": {
      "text/html": [
       "<div>\n",
       "<style scoped>\n",
       "    .dataframe tbody tr th:only-of-type {\n",
       "        vertical-align: middle;\n",
       "    }\n",
       "\n",
       "    .dataframe tbody tr th {\n",
       "        vertical-align: top;\n",
       "    }\n",
       "\n",
       "    .dataframe thead th {\n",
       "        text-align: right;\n",
       "    }\n",
       "</style>\n",
       "<table border=\"1\" class=\"dataframe\">\n",
       "  <thead>\n",
       "    <tr style=\"text-align: right;\">\n",
       "      <th></th>\n",
       "      <th>ROP(1 ft)</th>\n",
       "      <th>Rotary Speed (rpm)</th>\n",
       "      <th>Surface Torque (psi)</th>\n",
       "      <th>Flow In (gal/min)</th>\n",
       "      <th>Pump Press (psi)</th>\n",
       "    </tr>\n",
       "  </thead>\n",
       "  <tbody>\n",
       "    <tr>\n",
       "      <th>0</th>\n",
       "      <td>0.266925</td>\n",
       "      <td>1.000000</td>\n",
       "      <td>0.025100</td>\n",
       "      <td>0.314435</td>\n",
       "      <td>0.122079</td>\n",
       "    </tr>\n",
       "    <tr>\n",
       "      <th>1</th>\n",
       "      <td>0.241777</td>\n",
       "      <td>0.339716</td>\n",
       "      <td>0.025100</td>\n",
       "      <td>0.314311</td>\n",
       "      <td>0.121503</td>\n",
       "    </tr>\n",
       "    <tr>\n",
       "      <th>2</th>\n",
       "      <td>0.167628</td>\n",
       "      <td>0.328375</td>\n",
       "      <td>0.025100</td>\n",
       "      <td>0.314926</td>\n",
       "      <td>0.124968</td>\n",
       "    </tr>\n",
       "    <tr>\n",
       "      <th>3</th>\n",
       "      <td>0.178044</td>\n",
       "      <td>0.357869</td>\n",
       "      <td>0.024990</td>\n",
       "      <td>0.315173</td>\n",
       "      <td>0.124200</td>\n",
       "    </tr>\n",
       "    <tr>\n",
       "      <th>4</th>\n",
       "      <td>0.041704</td>\n",
       "      <td>0.323846</td>\n",
       "      <td>0.024844</td>\n",
       "      <td>0.314495</td>\n",
       "      <td>0.121695</td>\n",
       "    </tr>\n",
       "  </tbody>\n",
       "</table>\n",
       "</div>"
      ],
      "text/plain": [
       "   ROP(1 ft)  Rotary Speed (rpm)  Surface Torque (psi)  Flow In (gal/min)  \\\n",
       "0   0.266925            1.000000              0.025100           0.314435   \n",
       "1   0.241777            0.339716              0.025100           0.314311   \n",
       "2   0.167628            0.328375              0.025100           0.314926   \n",
       "3   0.178044            0.357869              0.024990           0.315173   \n",
       "4   0.041704            0.323846              0.024844           0.314495   \n",
       "\n",
       "   Pump Press (psi)  \n",
       "0          0.122079  \n",
       "1          0.121503  \n",
       "2          0.124968  \n",
       "3          0.124200  \n",
       "4          0.121695  "
      ]
     },
     "execution_count": 38,
     "metadata": {},
     "output_type": "execute_result"
    }
   ],
   "source": [
    "MinMax(df_train.iloc[:,:-1]).head()"
   ]
  },
  {
   "cell_type": "markdown",
   "metadata": {},
   "source": [
    "# Searching for best Hyperparameters for Models ( GridSearchCV)"
   ]
  },
  {
   "cell_type": "markdown",
   "metadata": {},
   "source": [
    "## Random Forest"
   ]
  },
  {
   "cell_type": "code",
   "execution_count": 38,
   "metadata": {},
   "outputs": [
    {
     "data": {
      "text/plain": [
       "{'n_estimators': [200, 500],\n",
       " 'max_depth': [6, 7],\n",
       " 'max_features': ['auto', 'sqrt', 'log2'],\n",
       " 'criterion': ['gini', 'entopy'],\n",
       " 'class_weight': ['balanced', 'balanced_subsample']}"
      ]
     },
     "execution_count": 38,
     "metadata": {},
     "output_type": "execute_result"
    }
   ],
   "source": [
    "# Number of trees in Random Forest\n",
    "\n",
    "# Create the grid\n",
    "rf_grid = {'n_estimators': [200, 500],\n",
    "               'max_depth': [6,7],\n",
    "               'max_features': ['auto', 'sqrt', 'log2'],\n",
    "               'criterion': ['gini', 'entopy'],\n",
    "           'class_weight' : ['balanced', 'balanced_subsample']\n",
    "          }\n",
    "rf_grid"
   ]
  },
  {
   "cell_type": "code",
   "execution_count": 40,
   "metadata": {
    "scrolled": false
   },
   "outputs": [
    {
     "name": "stdout",
     "output_type": "stream",
     "text": [
      "Fitting 5 folds for each of 48 candidates, totalling 240 fits\n"
     ]
    },
    {
     "name": "stderr",
     "output_type": "stream",
     "text": [
      "[Parallel(n_jobs=-1)]: Using backend LokyBackend with 4 concurrent workers.\n",
      "[Parallel(n_jobs=-1)]: Done  33 tasks      | elapsed:   43.3s\n",
      "[Parallel(n_jobs=-1)]: Done 154 tasks      | elapsed:  2.5min\n",
      "[Parallel(n_jobs=-1)]: Done 240 out of 240 | elapsed:  3.4min finished\n",
      "C:\\Users\\Sir_Praise\\anaconda3\\lib\\site-packages\\sklearn\\model_selection\\_search.py:739: DataConversionWarning: A column-vector y was passed when a 1d array was expected. Please change the shape of y to (n_samples,), for example using ravel().\n",
      "  self.best_estimator_.fit(X, y, **fit_params)\n"
     ]
    },
    {
     "name": "stdout",
     "output_type": "stream",
     "text": [
      "Best Score and Parameters are 0.9016009687405677 and {'class_weight': 'balanced_subsample', 'criterion': 'gini', 'max_depth': 7, 'max_features': 'sqrt', 'n_estimators': 200}\n",
      "\n",
      "0.8995688372589641 with: {'class_weight': 'balanced', 'criterion': 'gini', 'max_depth': 6, 'max_features': 'auto', 'n_estimators': 200}\n",
      "0.8997740718244323 with: {'class_weight': 'balanced', 'criterion': 'gini', 'max_depth': 6, 'max_features': 'auto', 'n_estimators': 500}\n",
      "0.8993600468489908 with: {'class_weight': 'balanced', 'criterion': 'gini', 'max_depth': 6, 'max_features': 'sqrt', 'n_estimators': 200}\n",
      "0.8995930869218232 with: {'class_weight': 'balanced', 'criterion': 'gini', 'max_depth': 6, 'max_features': 'sqrt', 'n_estimators': 500}\n",
      "0.8985524554672457 with: {'class_weight': 'balanced', 'criterion': 'gini', 'max_depth': 6, 'max_features': 'log2', 'n_estimators': 200}\n",
      "0.9008712932484343 with: {'class_weight': 'balanced', 'criterion': 'gini', 'max_depth': 6, 'max_features': 'log2', 'n_estimators': 500}\n",
      "0.9006642440661476 with: {'class_weight': 'balanced', 'criterion': 'gini', 'max_depth': 7, 'max_features': 'auto', 'n_estimators': 200}\n",
      "0.8985791363447522 with: {'class_weight': 'balanced', 'criterion': 'gini', 'max_depth': 7, 'max_features': 'auto', 'n_estimators': 500}\n",
      "0.9012733035301397 with: {'class_weight': 'balanced', 'criterion': 'gini', 'max_depth': 7, 'max_features': 'sqrt', 'n_estimators': 200}\n",
      "0.90017629256672 with: {'class_weight': 'balanced', 'criterion': 'gini', 'max_depth': 7, 'max_features': 'sqrt', 'n_estimators': 500}\n",
      "0.9008761831384812 with: {'class_weight': 'balanced', 'criterion': 'gini', 'max_depth': 7, 'max_features': 'log2', 'n_estimators': 200}\n",
      "0.9008443194462415 with: {'class_weight': 'balanced', 'criterion': 'gini', 'max_depth': 7, 'max_features': 'log2', 'n_estimators': 500}\n",
      "nan with: {'class_weight': 'balanced', 'criterion': 'entopy', 'max_depth': 6, 'max_features': 'auto', 'n_estimators': 200}\n",
      "nan with: {'class_weight': 'balanced', 'criterion': 'entopy', 'max_depth': 6, 'max_features': 'auto', 'n_estimators': 500}\n",
      "nan with: {'class_weight': 'balanced', 'criterion': 'entopy', 'max_depth': 6, 'max_features': 'sqrt', 'n_estimators': 200}\n",
      "nan with: {'class_weight': 'balanced', 'criterion': 'entopy', 'max_depth': 6, 'max_features': 'sqrt', 'n_estimators': 500}\n",
      "nan with: {'class_weight': 'balanced', 'criterion': 'entopy', 'max_depth': 6, 'max_features': 'log2', 'n_estimators': 200}\n",
      "nan with: {'class_weight': 'balanced', 'criterion': 'entopy', 'max_depth': 6, 'max_features': 'log2', 'n_estimators': 500}\n",
      "nan with: {'class_weight': 'balanced', 'criterion': 'entopy', 'max_depth': 7, 'max_features': 'auto', 'n_estimators': 200}\n",
      "nan with: {'class_weight': 'balanced', 'criterion': 'entopy', 'max_depth': 7, 'max_features': 'auto', 'n_estimators': 500}\n",
      "nan with: {'class_weight': 'balanced', 'criterion': 'entopy', 'max_depth': 7, 'max_features': 'sqrt', 'n_estimators': 200}\n",
      "nan with: {'class_weight': 'balanced', 'criterion': 'entopy', 'max_depth': 7, 'max_features': 'sqrt', 'n_estimators': 500}\n",
      "nan with: {'class_weight': 'balanced', 'criterion': 'entopy', 'max_depth': 7, 'max_features': 'log2', 'n_estimators': 200}\n",
      "nan with: {'class_weight': 'balanced', 'criterion': 'entopy', 'max_depth': 7, 'max_features': 'log2', 'n_estimators': 500}\n",
      "0.8996439004632901 with: {'class_weight': 'balanced_subsample', 'criterion': 'gini', 'max_depth': 6, 'max_features': 'auto', 'n_estimators': 200}\n",
      "0.8996752498350133 with: {'class_weight': 'balanced_subsample', 'criterion': 'gini', 'max_depth': 6, 'max_features': 'auto', 'n_estimators': 500}\n",
      "0.8990734065636916 with: {'class_weight': 'balanced_subsample', 'criterion': 'gini', 'max_depth': 6, 'max_features': 'sqrt', 'n_estimators': 200}\n",
      "0.9006862650869584 with: {'class_weight': 'balanced_subsample', 'criterion': 'gini', 'max_depth': 6, 'max_features': 'sqrt', 'n_estimators': 500}\n",
      "0.8990898906182572 with: {'class_weight': 'balanced_subsample', 'criterion': 'gini', 'max_depth': 6, 'max_features': 'log2', 'n_estimators': 200}\n",
      "0.9009392291383952 with: {'class_weight': 'balanced_subsample', 'criterion': 'gini', 'max_depth': 6, 'max_features': 'log2', 'n_estimators': 500}\n",
      "0.90080001905432 with: {'class_weight': 'balanced_subsample', 'criterion': 'gini', 'max_depth': 7, 'max_features': 'auto', 'n_estimators': 200}\n",
      "0.89967988488483 with: {'class_weight': 'balanced_subsample', 'criterion': 'gini', 'max_depth': 7, 'max_features': 'auto', 'n_estimators': 500}\n",
      "0.9016009687405677 with: {'class_weight': 'balanced_subsample', 'criterion': 'gini', 'max_depth': 7, 'max_features': 'sqrt', 'n_estimators': 200}\n",
      "0.8962797799123123 with: {'class_weight': 'balanced_subsample', 'criterion': 'gini', 'max_depth': 7, 'max_features': 'sqrt', 'n_estimators': 500}\n",
      "0.8982756292998164 with: {'class_weight': 'balanced_subsample', 'criterion': 'gini', 'max_depth': 7, 'max_features': 'log2', 'n_estimators': 200}\n",
      "0.9006886487519357 with: {'class_weight': 'balanced_subsample', 'criterion': 'gini', 'max_depth': 7, 'max_features': 'log2', 'n_estimators': 500}\n",
      "nan with: {'class_weight': 'balanced_subsample', 'criterion': 'entopy', 'max_depth': 6, 'max_features': 'auto', 'n_estimators': 200}\n",
      "nan with: {'class_weight': 'balanced_subsample', 'criterion': 'entopy', 'max_depth': 6, 'max_features': 'auto', 'n_estimators': 500}\n",
      "nan with: {'class_weight': 'balanced_subsample', 'criterion': 'entopy', 'max_depth': 6, 'max_features': 'sqrt', 'n_estimators': 200}\n",
      "nan with: {'class_weight': 'balanced_subsample', 'criterion': 'entopy', 'max_depth': 6, 'max_features': 'sqrt', 'n_estimators': 500}\n",
      "nan with: {'class_weight': 'balanced_subsample', 'criterion': 'entopy', 'max_depth': 6, 'max_features': 'log2', 'n_estimators': 200}\n",
      "nan with: {'class_weight': 'balanced_subsample', 'criterion': 'entopy', 'max_depth': 6, 'max_features': 'log2', 'n_estimators': 500}\n",
      "nan with: {'class_weight': 'balanced_subsample', 'criterion': 'entopy', 'max_depth': 7, 'max_features': 'auto', 'n_estimators': 200}\n",
      "nan with: {'class_weight': 'balanced_subsample', 'criterion': 'entopy', 'max_depth': 7, 'max_features': 'auto', 'n_estimators': 500}\n",
      "nan with: {'class_weight': 'balanced_subsample', 'criterion': 'entopy', 'max_depth': 7, 'max_features': 'sqrt', 'n_estimators': 200}\n",
      "nan with: {'class_weight': 'balanced_subsample', 'criterion': 'entopy', 'max_depth': 7, 'max_features': 'sqrt', 'n_estimators': 500}\n",
      "nan with: {'class_weight': 'balanced_subsample', 'criterion': 'entopy', 'max_depth': 7, 'max_features': 'log2', 'n_estimators': 200}\n",
      "nan with: {'class_weight': 'balanced_subsample', 'criterion': 'entopy', 'max_depth': 7, 'max_features': 'log2', 'n_estimators': 500}\n"
     ]
    }
   ],
   "source": [
    "from sklearn.model_selection import GridSearchCV\n",
    "from sklearn.metrics import make_scorer, f1_score\n",
    "from sklearn.ensemble import RandomForestClassifier\n",
    "\n",
    "# Create the model to be tuned\n",
    "rf_base = RandomForestClassifier()\n",
    "\n",
    "f1 = make_scorer(f1_score, pos_label=0)\n",
    "\n",
    "# Create the Grid search Random Forest\n",
    "rf_random = GridSearchCV(estimator = rf_base, param_grid= rf_grid, verbose = 2, n_jobs = -1, cv=5, scoring=f1)\n",
    "\n",
    "X= MinMax(df_train.iloc[:,:-1])\n",
    "Y= df_train.iloc[:,-1:] \n",
    "\n",
    "# Fit the random search model\n",
    "rf_random.fit(X, Y)\n",
    "\n",
    "# View the best parameters from the random search\n",
    "rf_random.best_params_\n",
    "\n",
    "# Output the best score and its corresponding parameters\n",
    "print(f'Best Score and Parameters are {rf_random.best_score_} and {rf_random.best_params_}\\n')\n",
    "\n",
    "# define the scoring method\n",
    "means = rf_random.cv_results_['mean_test_score']\n",
    "params = rf_random.cv_results_['params']\n",
    "\n",
    "for mean, param in zip(means, params):\n",
    "    print(f\"{mean} with: {param}\")"
   ]
  },
  {
   "cell_type": "markdown",
   "metadata": {},
   "source": [
    "## Logistic Regression"
   ]
  },
  {
   "cell_type": "code",
   "execution_count": 41,
   "metadata": {
    "scrolled": true
   },
   "outputs": [
    {
     "data": {
      "text/plain": [
       "{'solver': ['newton-cg', 'lbfgs', 'liblinear'],\n",
       " 'penalty': ['l1', 'l2'],\n",
       " 'C': [100, 10, 1.0, 0.1, 0.01, 200]}"
      ]
     },
     "execution_count": 41,
     "metadata": {},
     "output_type": "execute_result"
    }
   ],
   "source": [
    "# example of grid searching key hyperparametres for logistic regression\n",
    "from sklearn.linear_model import LogisticRegression\n",
    "\n",
    "# define models and parameters\n",
    "\n",
    "solvers = ['newton-cg', 'lbfgs', 'liblinear']\n",
    "penalty = ['l1', 'l2']\n",
    "c_values = [100, 10, 1.0, 0.1, 0.01, 200]\n",
    "\n",
    "\n",
    "lr_grid = {'solver': solvers,\n",
    "           'penalty': penalty,\n",
    "           'C': c_values,\n",
    "          }\n",
    "\n",
    "lr_grid"
   ]
  },
  {
   "cell_type": "code",
   "execution_count": 44,
   "metadata": {},
   "outputs": [
    {
     "name": "stdout",
     "output_type": "stream",
     "text": [
      "Fitting 5 folds for each of 36 candidates, totalling 180 fits\n"
     ]
    },
    {
     "name": "stderr",
     "output_type": "stream",
     "text": [
      "[Parallel(n_jobs=-1)]: Using backend LokyBackend with 4 concurrent workers.\n",
      "[Parallel(n_jobs=-1)]: Done  92 tasks      | elapsed:    1.8s\n",
      "[Parallel(n_jobs=-1)]: Done 173 out of 180 | elapsed:    3.1s remaining:    0.0s\n",
      "[Parallel(n_jobs=-1)]: Done 180 out of 180 | elapsed:    3.2s finished\n",
      "C:\\Users\\Sir_Praise\\anaconda3\\lib\\site-packages\\sklearn\\utils\\validation.py:760: DataConversionWarning: A column-vector y was passed when a 1d array was expected. Please change the shape of y to (n_samples, ), for example using ravel().\n",
      "  y = column_or_1d(y, warn=True)\n"
     ]
    },
    {
     "name": "stdout",
     "output_type": "stream",
     "text": [
      "Best Score and Parameters are 0.8751689965950028 and {'C': 200, 'penalty': 'l1', 'solver': 'liblinear'}\n",
      "\n",
      "nan with: {'C': 100, 'penalty': 'l1', 'solver': 'newton-cg'}\n",
      "nan with: {'C': 100, 'penalty': 'l1', 'solver': 'lbfgs'}\n",
      "0.8744186396217334 with: {'C': 100, 'penalty': 'l1', 'solver': 'liblinear'}\n",
      "0.7607686080859288 with: {'C': 100, 'penalty': 'l2', 'solver': 'newton-cg'}\n",
      "0.7607686080859288 with: {'C': 100, 'penalty': 'l2', 'solver': 'lbfgs'}\n",
      "0.7607600651454487 with: {'C': 100, 'penalty': 'l2', 'solver': 'liblinear'}\n",
      "nan with: {'C': 10, 'penalty': 'l1', 'solver': 'newton-cg'}\n",
      "nan with: {'C': 10, 'penalty': 'l1', 'solver': 'lbfgs'}\n",
      "0.8604634389312565 with: {'C': 10, 'penalty': 'l1', 'solver': 'liblinear'}\n",
      "0.7293474527742461 with: {'C': 10, 'penalty': 'l2', 'solver': 'newton-cg'}\n",
      "0.7293474527742461 with: {'C': 10, 'penalty': 'l2', 'solver': 'lbfgs'}\n",
      "0.7293474527742461 with: {'C': 10, 'penalty': 'l2', 'solver': 'liblinear'}\n",
      "nan with: {'C': 1.0, 'penalty': 'l1', 'solver': 'newton-cg'}\n",
      "nan with: {'C': 1.0, 'penalty': 'l1', 'solver': 'lbfgs'}\n",
      "0.7721417607868394 with: {'C': 1.0, 'penalty': 'l1', 'solver': 'liblinear'}\n",
      "0.730595463700875 with: {'C': 1.0, 'penalty': 'l2', 'solver': 'newton-cg'}\n",
      "0.730595463700875 with: {'C': 1.0, 'penalty': 'l2', 'solver': 'lbfgs'}\n",
      "0.7307784526204569 with: {'C': 1.0, 'penalty': 'l2', 'solver': 'liblinear'}\n",
      "nan with: {'C': 0.1, 'penalty': 'l1', 'solver': 'newton-cg'}\n",
      "nan with: {'C': 0.1, 'penalty': 'l1', 'solver': 'lbfgs'}\n",
      "0.7301161983640462 with: {'C': 0.1, 'penalty': 'l1', 'solver': 'liblinear'}\n",
      "0.7348021072076079 with: {'C': 0.1, 'penalty': 'l2', 'solver': 'newton-cg'}\n",
      "0.7348021072076079 with: {'C': 0.1, 'penalty': 'l2', 'solver': 'lbfgs'}\n",
      "0.7329608481271578 with: {'C': 0.1, 'penalty': 'l2', 'solver': 'liblinear'}\n",
      "nan with: {'C': 0.01, 'penalty': 'l1', 'solver': 'newton-cg'}\n",
      "nan with: {'C': 0.01, 'penalty': 'l1', 'solver': 'lbfgs'}\n",
      "0.7022817607843631 with: {'C': 0.01, 'penalty': 'l1', 'solver': 'liblinear'}\n",
      "0.6841183329411009 with: {'C': 0.01, 'penalty': 'l2', 'solver': 'newton-cg'}\n",
      "0.6841183329411009 with: {'C': 0.01, 'penalty': 'l2', 'solver': 'lbfgs'}\n",
      "0.6829197080291971 with: {'C': 0.01, 'penalty': 'l2', 'solver': 'liblinear'}\n",
      "nan with: {'C': 200, 'penalty': 'l1', 'solver': 'newton-cg'}\n",
      "nan with: {'C': 200, 'penalty': 'l1', 'solver': 'lbfgs'}\n",
      "0.8751689965950028 with: {'C': 200, 'penalty': 'l1', 'solver': 'liblinear'}\n",
      "0.7715431115571987 with: {'C': 200, 'penalty': 'l2', 'solver': 'newton-cg'}\n",
      "0.7715431115571987 with: {'C': 200, 'penalty': 'l2', 'solver': 'lbfgs'}\n",
      "0.7715431115571987 with: {'C': 200, 'penalty': 'l2', 'solver': 'liblinear'}\n"
     ]
    }
   ],
   "source": [
    "from sklearn.model_selection import GridSearchCV\n",
    "from sklearn.linear_model import LogisticRegression\n",
    "\n",
    "# Create the model to be tuned\n",
    "lr_base = LogisticRegression()\n",
    "\n",
    "# Create the Grid search Random Forest\n",
    "lr_random = GridSearchCV(estimator = lr_base, param_grid= lr_grid, verbose = 2, n_jobs = -1, cv=5, scoring=f1)\n",
    "\n",
    "X= MinMax(df_train.iloc[:,:-1])\n",
    "Y= df_train.iloc[:,-1:] \n",
    "\n",
    "# Fit the random search model\n",
    "lr_random.fit(X, Y)\n",
    "\n",
    "# View the best parameters from the random search\n",
    "lr_random.best_params_\n",
    "\n",
    "# Output the best score and its corresponding parameters\n",
    "print(f'Best Score and Parameters are {lr_random.best_score_} and {lr_random.best_params_}\\n')\n",
    "\n",
    "# define the scoring method\n",
    "means_lr = lr_random.cv_results_['mean_test_score']\n",
    "params_lr = lr_random.cv_results_['params']\n",
    "\n",
    "for mean, param in zip(means_lr, params_lr):\n",
    "    print(f\"{mean} with: {param}\")"
   ]
  },
  {
   "cell_type": "markdown",
   "metadata": {},
   "source": [
    "## MLP"
   ]
  },
  {
   "cell_type": "code",
   "execution_count": 45,
   "metadata": {},
   "outputs": [
    {
     "data": {
      "text/plain": [
       "{'solver': ['lbfgs', 'sgd', 'adam'],\n",
       " 'activation': ['logistic', 'relu'],\n",
       " 'learning_rate': ['constant', 'adaptive'],\n",
       " 'hidden_layer_sizes': [(10, 30, 10), (20,), (100, 50, 20)]}"
      ]
     },
     "execution_count": 45,
     "metadata": {},
     "output_type": "execute_result"
    }
   ],
   "source": [
    "# example of grid searching key hyperparametres for MLP Classifier\n",
    "from sklearn.neural_network import MLPClassifier\n",
    "\n",
    "# define models and parameters\n",
    "solver = ['lbfgs', 'sgd', 'adam']\n",
    "activation = ['logistic', 'relu']\n",
    "learning_rate = ['constant', 'adaptive']\n",
    "hidden_layer_sizes = [(10,30,10), (20,), (100, 50, 20)]\n",
    "\n",
    "mlp_grid = {'solver': solver,\n",
    "           'activation': activation,\n",
    "           'learning_rate': learning_rate,\n",
    "           'hidden_layer_sizes': hidden_layer_sizes\n",
    "          }\n",
    "\n",
    "mlp_grid"
   ]
  },
  {
   "cell_type": "code",
   "execution_count": 46,
   "metadata": {},
   "outputs": [
    {
     "name": "stdout",
     "output_type": "stream",
     "text": [
      "Fitting 5 folds for each of 36 candidates, totalling 180 fits\n"
     ]
    },
    {
     "name": "stderr",
     "output_type": "stream",
     "text": [
      "[Parallel(n_jobs=-1)]: Using backend LokyBackend with 4 concurrent workers.\n",
      "[Parallel(n_jobs=-1)]: Done  33 tasks      | elapsed:   47.1s\n",
      "[Parallel(n_jobs=-1)]: Done 154 tasks      | elapsed:  5.9min\n",
      "[Parallel(n_jobs=-1)]: Done 180 out of 180 | elapsed:  8.2min finished\n",
      "C:\\Users\\Sir_Praise\\anaconda3\\lib\\site-packages\\sklearn\\neural_network\\_multilayer_perceptron.py:934: DataConversionWarning: A column-vector y was passed when a 1d array was expected. Please change the shape of y to (n_samples, ), for example using ravel().\n",
      "  y = column_or_1d(y, warn=True)\n"
     ]
    },
    {
     "name": "stdout",
     "output_type": "stream",
     "text": [
      "Best Score and Parameters are 0.8720911189844696 and {'activation': 'relu', 'hidden_layer_sizes': (100, 50, 20), 'learning_rate': 'adaptive', 'solver': 'adam'}\n",
      "\n",
      "0.4933461631524718 with: {'activation': 'logistic', 'hidden_layer_sizes': (10, 30, 10), 'learning_rate': 'constant', 'solver': 'lbfgs'}\n",
      "0.0 with: {'activation': 'logistic', 'hidden_layer_sizes': (10, 30, 10), 'learning_rate': 'constant', 'solver': 'sgd'}\n",
      "0.8050968242814378 with: {'activation': 'logistic', 'hidden_layer_sizes': (10, 30, 10), 'learning_rate': 'constant', 'solver': 'adam'}\n",
      "0.5013341913341913 with: {'activation': 'logistic', 'hidden_layer_sizes': (10, 30, 10), 'learning_rate': 'adaptive', 'solver': 'lbfgs'}\n",
      "0.0 with: {'activation': 'logistic', 'hidden_layer_sizes': (10, 30, 10), 'learning_rate': 'adaptive', 'solver': 'sgd'}\n",
      "0.7821519411793223 with: {'activation': 'logistic', 'hidden_layer_sizes': (10, 30, 10), 'learning_rate': 'adaptive', 'solver': 'adam'}\n",
      "0.6560909413102595 with: {'activation': 'logistic', 'hidden_layer_sizes': (20,), 'learning_rate': 'constant', 'solver': 'lbfgs'}\n",
      "0.014209591474245118 with: {'activation': 'logistic', 'hidden_layer_sizes': (20,), 'learning_rate': 'constant', 'solver': 'sgd'}\n",
      "0.7300896408459748 with: {'activation': 'logistic', 'hidden_layer_sizes': (20,), 'learning_rate': 'constant', 'solver': 'adam'}\n",
      "0.84235395076382 with: {'activation': 'logistic', 'hidden_layer_sizes': (20,), 'learning_rate': 'adaptive', 'solver': 'lbfgs'}\n",
      "0.0 with: {'activation': 'logistic', 'hidden_layer_sizes': (20,), 'learning_rate': 'adaptive', 'solver': 'sgd'}\n",
      "0.7293635622809125 with: {'activation': 'logistic', 'hidden_layer_sizes': (20,), 'learning_rate': 'adaptive', 'solver': 'adam'}\n",
      "0.7011224611434945 with: {'activation': 'logistic', 'hidden_layer_sizes': (100, 50, 20), 'learning_rate': 'constant', 'solver': 'lbfgs'}\n",
      "0.0 with: {'activation': 'logistic', 'hidden_layer_sizes': (100, 50, 20), 'learning_rate': 'constant', 'solver': 'sgd'}\n",
      "0.8389284477760736 with: {'activation': 'logistic', 'hidden_layer_sizes': (100, 50, 20), 'learning_rate': 'constant', 'solver': 'adam'}\n",
      "0.5446405944360515 with: {'activation': 'logistic', 'hidden_layer_sizes': (100, 50, 20), 'learning_rate': 'adaptive', 'solver': 'lbfgs'}\n",
      "0.0 with: {'activation': 'logistic', 'hidden_layer_sizes': (100, 50, 20), 'learning_rate': 'adaptive', 'solver': 'sgd'}\n",
      "0.8551083514738542 with: {'activation': 'logistic', 'hidden_layer_sizes': (100, 50, 20), 'learning_rate': 'adaptive', 'solver': 'adam'}\n",
      "0.7289584379916682 with: {'activation': 'relu', 'hidden_layer_sizes': (10, 30, 10), 'learning_rate': 'constant', 'solver': 'lbfgs'}\n",
      "0.7265716093209197 with: {'activation': 'relu', 'hidden_layer_sizes': (10, 30, 10), 'learning_rate': 'constant', 'solver': 'sgd'}\n",
      "0.8099534544281939 with: {'activation': 'relu', 'hidden_layer_sizes': (10, 30, 10), 'learning_rate': 'constant', 'solver': 'adam'}\n",
      "0.5411889464583434 with: {'activation': 'relu', 'hidden_layer_sizes': (10, 30, 10), 'learning_rate': 'adaptive', 'solver': 'lbfgs'}\n",
      "0.7231292024236587 with: {'activation': 'relu', 'hidden_layer_sizes': (10, 30, 10), 'learning_rate': 'adaptive', 'solver': 'sgd'}\n",
      "0.8553306904185171 with: {'activation': 'relu', 'hidden_layer_sizes': (10, 30, 10), 'learning_rate': 'adaptive', 'solver': 'adam'}\n",
      "0.8712157647946921 with: {'activation': 'relu', 'hidden_layer_sizes': (20,), 'learning_rate': 'constant', 'solver': 'lbfgs'}\n",
      "0.7315165977400423 with: {'activation': 'relu', 'hidden_layer_sizes': (20,), 'learning_rate': 'constant', 'solver': 'sgd'}\n",
      "0.7486283390609911 with: {'activation': 'relu', 'hidden_layer_sizes': (20,), 'learning_rate': 'constant', 'solver': 'adam'}\n",
      "0.8148950996331902 with: {'activation': 'relu', 'hidden_layer_sizes': (20,), 'learning_rate': 'adaptive', 'solver': 'lbfgs'}\n",
      "0.7296399979738529 with: {'activation': 'relu', 'hidden_layer_sizes': (20,), 'learning_rate': 'adaptive', 'solver': 'sgd'}\n",
      "0.7587000516828635 with: {'activation': 'relu', 'hidden_layer_sizes': (20,), 'learning_rate': 'adaptive', 'solver': 'adam'}\n",
      "0.46754539027302977 with: {'activation': 'relu', 'hidden_layer_sizes': (100, 50, 20), 'learning_rate': 'constant', 'solver': 'lbfgs'}\n",
      "0.7268244073393431 with: {'activation': 'relu', 'hidden_layer_sizes': (100, 50, 20), 'learning_rate': 'constant', 'solver': 'sgd'}\n",
      "0.8366533094091876 with: {'activation': 'relu', 'hidden_layer_sizes': (100, 50, 20), 'learning_rate': 'constant', 'solver': 'adam'}\n",
      "0.656247359081332 with: {'activation': 'relu', 'hidden_layer_sizes': (100, 50, 20), 'learning_rate': 'adaptive', 'solver': 'lbfgs'}\n",
      "0.7280993682536172 with: {'activation': 'relu', 'hidden_layer_sizes': (100, 50, 20), 'learning_rate': 'adaptive', 'solver': 'sgd'}\n",
      "0.8720911189844696 with: {'activation': 'relu', 'hidden_layer_sizes': (100, 50, 20), 'learning_rate': 'adaptive', 'solver': 'adam'}\n"
     ]
    }
   ],
   "source": [
    "# Create the model to be tuned\n",
    "mlp_base = MLPClassifier()\n",
    "\n",
    "# Create the Grid search Random Forest\n",
    "mlp_random = GridSearchCV(estimator = mlp_base, param_grid= mlp_grid, verbose = 2, n_jobs = -1, cv=5, scoring=f1)\n",
    "\n",
    "X= MinMax(df_train.iloc[:,:-1])\n",
    "Y= df_train.iloc[:,-1:] \n",
    "\n",
    "# Fit the random search model\n",
    "mlp_random.fit(X, Y)\n",
    "\n",
    "# View the best parameters from the random search\n",
    "mlp_random.best_params_\n",
    "\n",
    "# Output the best score and its corresponding parameters\n",
    "print(f'Best Score and Parameters are {mlp_random.best_score_} and {mlp_random.best_params_}\\n')\n",
    "\n",
    "# define the scoring method\n",
    "means_mlp = mlp_random.cv_results_['mean_test_score']\n",
    "params_mlp = mlp_random.cv_results_['params']\n",
    "\n",
    "for mean, param in zip(means_mlp, params_mlp):\n",
    "    print(f\"{mean} with: {param}\")"
   ]
  },
  {
   "cell_type": "markdown",
   "metadata": {},
   "source": [
    "## Model Building"
   ]
  },
  {
   "cell_type": "code",
   "execution_count": 65,
   "metadata": {},
   "outputs": [],
   "source": [
    "from sklearn.model_selection import train_test_split\n",
    "\n",
    "# get data\n",
    "X = MinMax(df_train.iloc[:,:-1])\n",
    "y = df_train.iloc[:,-1:] \n",
    "\n",
    "X_train, X_test, y_train, y_test = train_test_split(X, y, test_size=0.2, stratify=y, random_state=42)"
   ]
  },
  {
   "cell_type": "code",
   "execution_count": 66,
   "metadata": {},
   "outputs": [
    {
     "data": {
      "text/html": [
       "<div>\n",
       "<style scoped>\n",
       "    .dataframe tbody tr th:only-of-type {\n",
       "        vertical-align: middle;\n",
       "    }\n",
       "\n",
       "    .dataframe tbody tr th {\n",
       "        vertical-align: top;\n",
       "    }\n",
       "\n",
       "    .dataframe thead th {\n",
       "        text-align: right;\n",
       "    }\n",
       "</style>\n",
       "<table border=\"1\" class=\"dataframe\">\n",
       "  <thead>\n",
       "    <tr style=\"text-align: right;\">\n",
       "      <th></th>\n",
       "      <th>ROP(1 ft)</th>\n",
       "      <th>Rotary Speed (rpm)</th>\n",
       "      <th>Surface Torque (psi)</th>\n",
       "      <th>Flow In (gal/min)</th>\n",
       "      <th>Pump Press (psi)</th>\n",
       "    </tr>\n",
       "  </thead>\n",
       "  <tbody>\n",
       "    <tr>\n",
       "      <th>2229</th>\n",
       "      <td>0.012871</td>\n",
       "      <td>0.189226</td>\n",
       "      <td>0.549815</td>\n",
       "      <td>0.208536</td>\n",
       "      <td>0.635193</td>\n",
       "    </tr>\n",
       "  </tbody>\n",
       "</table>\n",
       "</div>"
      ],
      "text/plain": [
       "      ROP(1 ft)  Rotary Speed (rpm)  Surface Torque (psi)  Flow In (gal/min)  \\\n",
       "2229   0.012871            0.189226              0.549815           0.208536   \n",
       "\n",
       "      Pump Press (psi)  \n",
       "2229          0.635193  "
      ]
     },
     "execution_count": 66,
     "metadata": {},
     "output_type": "execute_result"
    }
   ],
   "source": [
    "X_train.head(1)"
   ]
  },
  {
   "cell_type": "markdown",
   "metadata": {},
   "source": [
    "## Logistic Regression"
   ]
  },
  {
   "cell_type": "code",
   "execution_count": 67,
   "metadata": {},
   "outputs": [],
   "source": [
    "from sklearn.model_selection import cross_val_score\n",
    "from sklearn.linear_model import LogisticRegression\n",
    "from sklearn.ensemble import AdaBoostClassifier\n",
    "from sklearn.ensemble import RandomForestClassifier\n",
    "from sklearn.ensemble import VotingClassifier\n",
    "from sklearn.neural_network import MLPClassifier"
   ]
  },
  {
   "cell_type": "code",
   "execution_count": 68,
   "metadata": {
    "scrolled": true
   },
   "outputs": [
    {
     "name": "stdout",
     "output_type": "stream",
     "text": [
      "              precision    recall  f1-score   support\n",
      "\n",
      "           0       0.89      0.73      0.80       543\n",
      "           2       0.84      0.94      0.89       819\n",
      "\n",
      "    accuracy                           0.86      1362\n",
      "   macro avg       0.86      0.84      0.85      1362\n",
      "weighted avg       0.86      0.86      0.85      1362\n",
      "\n"
     ]
    },
    {
     "name": "stderr",
     "output_type": "stream",
     "text": [
      "C:\\Users\\Sir_Praise\\anaconda3\\lib\\site-packages\\sklearn\\utils\\validation.py:760: DataConversionWarning: A column-vector y was passed when a 1d array was expected. Please change the shape of y to (n_samples, ), for example using ravel().\n",
      "  y = column_or_1d(y, warn=True)\n"
     ]
    }
   ],
   "source": [
    "lr_model = LogisticRegression()\n",
    "\n",
    "lr_model = lr_model.fit(X_train, y_train)\n",
    "\n",
    "y_pred_lr = lr_model.predict(X_test)\n",
    "\n",
    "from sklearn.metrics import classification_report\n",
    "\n",
    "print(classification_report(y_test, y_pred_lr))"
   ]
  },
  {
   "cell_type": "code",
   "execution_count": 69,
   "metadata": {},
   "outputs": [
    {
     "name": "stdout",
     "output_type": "stream",
     "text": [
      "precision: [0.88839286 0.84135667]\n",
      "recall: [0.73296501 0.93894994]\n",
      "fscore: [0.80322906 0.88747836]\n",
      "support: [543 819]\n"
     ]
    }
   ],
   "source": [
    "from sklearn.metrics import precision_recall_fscore_support as score\n",
    "\n",
    "\n",
    "precision, recall, fscore, support = score(y_test, y_pred_lr)\n",
    "\n",
    "print('precision: {}'.format(precision))\n",
    "print('recall: {}'.format(recall))\n",
    "print('fscore: {}'.format(fscore))\n",
    "print('support: {}'.format(support))"
   ]
  },
  {
   "cell_type": "code",
   "execution_count": 72,
   "metadata": {},
   "outputs": [
    {
     "data": {
      "text/plain": [
       "0.8568281938325991"
      ]
     },
     "execution_count": 72,
     "metadata": {},
     "output_type": "execute_result"
    }
   ],
   "source": [
    "from sklearn.metrics import accuracy_score\n",
    "\n",
    "accuracy_score(y_test, y_pred_lr)"
   ]
  },
  {
   "cell_type": "code",
   "execution_count": 70,
   "metadata": {},
   "outputs": [
    {
     "data": {
      "image/png": "[encoded data removed]",
      "text/plain": [
       "<Figure size 432x288 with 2 Axes>"
      ]
     },
     "metadata": {
      "needs_background": "light"
     },
     "output_type": "display_data"
    }
   ],
   "source": [
    "from sklearn.metrics import confusion_matrix\n",
    "\n",
    "# Generating the confusion matrix\n",
    "cf_matrix_lr = confusion_matrix(y_test, y_pred_lr)\n",
    "\n",
    "ax = sns.heatmap(cf_matrix_lr/cf_matrix_lr.sum(axis=0), annot=True, \n",
    "            fmt='.2%', cmap='Blues')\n",
    "\n",
    "ax.set_title('Seaborn Confusion Matrix with labels\\n', fontweight='bold');\n",
    "ax.set_xlabel('Predicted_LR Lithology clusters', fontweight='bold')\n",
    "ax.set_ylabel('Actual Lithology clusters', fontweight='bold');\n",
    "\n",
    "plt.show()"
   ]
  },
  {
   "cell_type": "markdown",
   "metadata": {},
   "source": [
    "## Deep Learning (MLP)"
   ]
  },
  {
   "cell_type": "code",
   "execution_count": 71,
   "metadata": {
    "scrolled": true
   },
   "outputs": [
    {
     "name": "stderr",
     "output_type": "stream",
     "text": [
      "C:\\Users\\Sir_Praise\\anaconda3\\lib\\site-packages\\sklearn\\neural_network\\_multilayer_perceptron.py:934: DataConversionWarning: A column-vector y was passed when a 1d array was expected. Please change the shape of y to (n_samples, ), for example using ravel().\n",
      "  y = column_or_1d(y, warn=True)\n"
     ]
    },
    {
     "name": "stdout",
     "output_type": "stream",
     "text": [
      "              precision    recall  f1-score   support\n",
      "\n",
      "           0       1.00      0.98      0.99       543\n",
      "           2       0.98      1.00      0.99       819\n",
      "\n",
      "    accuracy                           0.99      1362\n",
      "   macro avg       0.99      0.99      0.99      1362\n",
      "weighted avg       0.99      0.99      0.99      1362\n",
      "\n"
     ]
    }
   ],
   "source": [
    "mlp_model = MLPClassifier(solver='adam',\n",
    "                          activation = 'relu',\n",
    "                          hidden_layer_sizes = (100, 50, 20),\n",
    "                          learning_rate = 'adaptive'\n",
    "                         )\n",
    "                \n",
    "mlp_model = mlp_model.fit(X_train, y_train)\n",
    "\n",
    "y_pred_mlp = mlp_model.predict(X_test)\n",
    "\n",
    "from sklearn.metrics import classification_report\n",
    "\n",
    "print(classification_report(y_test, y_pred_mlp))"
   ]
  },
  {
   "cell_type": "code",
   "execution_count": 72,
   "metadata": {},
   "outputs": [
    {
     "data": {
      "text/plain": [
       "0.9889867841409692"
      ]
     },
     "execution_count": 72,
     "metadata": {},
     "output_type": "execute_result"
    }
   ],
   "source": [
    "from sklearn.metrics import accuracy_score\n",
    "\n",
    "accuracy_score(y_test, y_pred_mlp)"
   ]
  },
  {
   "cell_type": "code",
   "execution_count": 73,
   "metadata": {},
   "outputs": [
    {
     "name": "stdout",
     "output_type": "stream",
     "text": [
      "precision: [0.9962406  0.98433735]\n",
      "recall: [0.97605893 0.997558  ]\n",
      "fscore: [0.98604651 0.99090358]\n",
      "support: [543 819]\n"
     ]
    }
   ],
   "source": [
    "from sklearn.metrics import precision_recall_fscore_support as score\n",
    "\n",
    "\n",
    "precision, recall, fscore, support = score(y_test, y_pred_mlp)\n",
    "\n",
    "print('precision: {}'.format(precision))\n",
    "print('recall: {}'.format(recall))\n",
    "print('fscore: {}'.format(fscore))\n",
    "print('support: {}'.format(support))"
   ]
  },
  {
   "cell_type": "code",
   "execution_count": 74,
   "metadata": {},
   "outputs": [
    {
     "data": {
      "image/png": "[encoded data removed]",
      "text/plain": [
       "<Figure size 432x288 with 2 Axes>"
      ]
     },
     "metadata": {
      "needs_background": "light"
     },
     "output_type": "display_data"
    }
   ],
   "source": [
    "from sklearn.metrics import confusion_matrix\n",
    "\n",
    "# Generating the confusion matrix\n",
    "cf_matrix_mlp = confusion_matrix(y_test, y_pred_mlp)\n",
    "\n",
    "ax = sns.heatmap(cf_matrix_mlp/cf_matrix_mlp.sum(axis=0), annot=True, \n",
    "            fmt='.2%', cmap='Blues')\n",
    "\n",
    "ax.set_title('Seaborn Confusion Matrix with labels\\n', fontweight='bold');\n",
    "ax.set_xlabel('Predicted_MLP Lithology clusters', fontweight='bold')\n",
    "ax.set_ylabel('Actual Lithology clusters', fontweight='bold');\n",
    "\n",
    "plt.show()"
   ]
  },
  {
   "cell_type": "markdown",
   "metadata": {},
   "source": [
    "# Random Forest Model"
   ]
  },
  {
   "cell_type": "code",
   "execution_count": 75,
   "metadata": {},
   "outputs": [
    {
     "name": "stderr",
     "output_type": "stream",
     "text": [
      "C:\\Users\\Sir_Praise\\anaconda3\\lib\\site-packages\\ipykernel_launcher.py:10: DataConversionWarning: A column-vector y was passed when a 1d array was expected. Please change the shape of y to (n_samples,), for example using ravel().\n",
      "  # Remove the CWD from sys.path while we load stuff.\n"
     ]
    },
    {
     "name": "stdout",
     "output_type": "stream",
     "text": [
      "              precision    recall  f1-score   support\n",
      "\n",
      "           0       1.00      1.00      1.00       543\n",
      "           2       1.00      1.00      1.00       819\n",
      "\n",
      "    accuracy                           1.00      1362\n",
      "   macro avg       1.00      1.00      1.00      1362\n",
      "weighted avg       1.00      1.00      1.00      1362\n",
      "\n"
     ]
    }
   ],
   "source": [
    "rf_model =RandomForestClassifier(criterion = 'gini',\n",
    "                                 random_state=42,\n",
    "                                 max_depth = 7,\n",
    "                                 max_features = 'sqrt',\n",
    "                                 n_estimators = 200,\n",
    "                                 class_weight = 'balanced_subsample'\n",
    "                                )\n",
    "\n",
    "\n",
    "rf_model = rf_model.fit(X_train, y_train)\n",
    "\n",
    "y_pred_rf = rf_model.predict(X_test)\n",
    "\n",
    "from sklearn.metrics import classification_report\n",
    "\n",
    "print(classification_report(y_test, y_pred_rf))"
   ]
  },
  {
   "cell_type": "code",
   "execution_count": 76,
   "metadata": {},
   "outputs": [
    {
     "name": "stdout",
     "output_type": "stream",
     "text": [
      "precision: [0.99631676 0.997558  ]\n",
      "recall: [0.99631676 0.997558  ]\n",
      "fscore: [0.99631676 0.997558  ]\n",
      "support: [543 819]\n"
     ]
    }
   ],
   "source": [
    "from sklearn.metrics import precision_recall_fscore_support as score\n",
    "\n",
    "\n",
    "precision, recall, fscore, support = score(y_test, y_pred_rf)\n",
    "\n",
    "print('precision: {}'.format(precision))\n",
    "print('recall: {}'.format(recall))\n",
    "print('fscore: {}'.format(fscore))\n",
    "print('support: {}'.format(support))"
   ]
  },
  {
   "cell_type": "code",
   "execution_count": 78,
   "metadata": {},
   "outputs": [
    {
     "data": {
      "text/plain": [
       "0.9970631424375918"
      ]
     },
     "execution_count": 78,
     "metadata": {},
     "output_type": "execute_result"
    }
   ],
   "source": [
    "from sklearn.metrics import accuracy_score\n",
    "\n",
    "accuracy_score(y_test, y_pred_rf)"
   ]
  },
  {
   "cell_type": "code",
   "execution_count": 79,
   "metadata": {},
   "outputs": [
    {
     "data": {
      "image/png": "[encoded data removed]",
      "text/plain": [
       "<Figure size 432x288 with 2 Axes>"
      ]
     },
     "metadata": {
      "needs_background": "light"
     },
     "output_type": "display_data"
    }
   ],
   "source": [
    "from sklearn.metrics import confusion_matrix\n",
    "\n",
    "# Generating the confusion matrix\n",
    "cf_matrix_rf = confusion_matrix(y_test, y_pred_rf)\n",
    "\n",
    "ax = sns.heatmap(cf_matrix_rf/cf_matrix_rf.sum(axis=0), annot=True, \n",
    "            fmt='.2%', cmap='Blues')\n",
    "\n",
    "ax.set_title('Seaborn Confusion Matrix with labels\\n', fontweight='bold');\n",
    "ax.set_xlabel('Predicted_RF Lithology clusters', fontweight='bold')\n",
    "ax.set_ylabel('Actual Lithology clusters', fontweight='bold');\n",
    "\n",
    "plt.show()"
   ]
  },
  {
   "cell_type": "markdown",
   "metadata": {},
   "source": [
    "# Voting Classifier"
   ]
  },
  {
   "cell_type": "code",
   "execution_count": 98,
   "metadata": {},
   "outputs": [
    {
     "name": "stderr",
     "output_type": "stream",
     "text": [
      "C:\\Users\\Sir_Praise\\anaconda3\\lib\\site-packages\\sklearn\\preprocessing\\_label.py:235: DataConversionWarning: A column-vector y was passed when a 1d array was expected. Please change the shape of y to (n_samples, ), for example using ravel().\n",
      "  y = column_or_1d(y, warn=True)\n",
      "C:\\Users\\Sir_Praise\\anaconda3\\lib\\site-packages\\sklearn\\preprocessing\\_label.py:268: DataConversionWarning: A column-vector y was passed when a 1d array was expected. Please change the shape of y to (n_samples, ), for example using ravel().\n",
      "  y = column_or_1d(y, warn=True)\n"
     ]
    }
   ],
   "source": [
    "from sklearn.model_selection import cross_val_score\n",
    "from sklearn.linear_model import LogisticRegression\n",
    "from sklearn.ensemble import AdaBoostClassifier\n",
    "from sklearn.ensemble import RandomForestClassifier\n",
    "from sklearn.ensemble import VotingClassifier\n",
    "from sklearn.neural_network import MLPClassifier\n",
    "\n",
    "\n",
    "# initialize voting classifier\n",
    "eclf = VotingClassifier(\n",
    "    estimators=[('mlp', mlp_model), ('rf', rf_model), ('lr', lr_model)],\n",
    "    voting='hard')\n",
    "\n",
    "# fit the models\n",
    "eclf = eclf.fit(X_train, y_train)\n",
    "\n",
    "\n",
    "# predict the lithology\n",
    "y_pred = eclf.predict(X_test)\n",
    "\n",
    "# df_actual = drill_merged.Lithology\n",
    "# df_Lithology_Pred = Lithology_Pred"
   ]
  },
  {
   "cell_type": "code",
   "execution_count": 99,
   "metadata": {},
   "outputs": [
    {
     "name": "stdout",
     "output_type": "stream",
     "text": [
      "              precision    recall  f1-score   support\n",
      "\n",
      "           0       1.00      0.97      0.98       543\n",
      "           2       0.98      1.00      0.99       819\n",
      "\n",
      "    accuracy                           0.99      1362\n",
      "   macro avg       0.99      0.98      0.99      1362\n",
      "weighted avg       0.99      0.99      0.99      1362\n",
      "\n"
     ]
    }
   ],
   "source": [
    "from sklearn.metrics import classification_report\n",
    "\n",
    "print(classification_report(y_test, y_pred))"
   ]
  },
  {
   "cell_type": "code",
   "execution_count": 100,
   "metadata": {},
   "outputs": [
    {
     "name": "stdout",
     "output_type": "stream",
     "text": [
      "precision: [0.99810606 0.98081535]\n",
      "recall: [0.97053407 0.998779  ]\n",
      "fscore: [0.98412698 0.98971567]\n",
      "support: [543 819]\n"
     ]
    }
   ],
   "source": [
    "from sklearn.metrics import precision_recall_fscore_support as score\n",
    "\n",
    "\n",
    "precision, recall, fscore, support = score(y_test, y_pred)\n",
    "\n",
    "print('precision: {}'.format(precision))\n",
    "print('recall: {}'.format(recall))\n",
    "print('fscore: {}'.format(fscore))\n",
    "print('support: {}'.format(support))"
   ]
  },
  {
   "cell_type": "code",
   "execution_count": 101,
   "metadata": {},
   "outputs": [
    {
     "data": {
      "image/png": "[encoded data removed]",
      "text/plain": [
       "<Figure size 432x288 with 2 Axes>"
      ]
     },
     "metadata": {
      "needs_background": "light"
     },
     "output_type": "display_data"
    }
   ],
   "source": [
    "from sklearn.metrics import confusion_matrix\n",
    "\n",
    "# Generating the confusion matrix\n",
    "cf_matrix = confusion_matrix(y_test, y_pred)\n",
    "\n",
    "ax = sns.heatmap(cf_matrix/cf_matrix.sum(axis=0), annot=True, \n",
    "            fmt='.2%', cmap='Blues')\n",
    "\n",
    "ax.set_title('Seaborn Confusion Matrix with labels\\n', fontweight='bold');\n",
    "ax.set_xlabel('Predicted Lithology clusters', fontweight='bold')\n",
    "ax.set_ylabel('Actual Lithology clusters', fontweight='bold');\n",
    "\n",
    "plt.show()"
   ]
  },
  {
   "cell_type": "code",
   "execution_count": 102,
   "metadata": {},
   "outputs": [
    {
     "data": {
      "text/plain": [
       "0.9875183553597651"
      ]
     },
     "execution_count": 102,
     "metadata": {},
     "output_type": "execute_result"
    }
   ],
   "source": [
    "from sklearn.metrics import accuracy_score\n",
    "\n",
    "accuracy_score(y_test, y_pred)"
   ]
  },
  {
   "cell_type": "markdown",
   "metadata": {},
   "source": [
    "# Prediction on Test Data"
   ]
  },
  {
   "cell_type": "markdown",
   "metadata": {},
   "source": [
    "Note: X_15 represents the scaled testing data and y_15 for the labeled testing data"
   ]
  },
  {
   "cell_type": "code",
   "execution_count": 103,
   "metadata": {},
   "outputs": [],
   "source": [
    "X_15 = MinMax(df_test.iloc[:, :-1])"
   ]
  },
  {
   "cell_type": "code",
   "execution_count": 104,
   "metadata": {},
   "outputs": [],
   "source": [
    "y_15 = df_test.iloc[:, -1:]"
   ]
  },
  {
   "cell_type": "markdown",
   "metadata": {},
   "source": [
    "## 1. Logistic Regression"
   ]
  },
  {
   "cell_type": "code",
   "execution_count": 105,
   "metadata": {},
   "outputs": [
    {
     "name": "stdout",
     "output_type": "stream",
     "text": [
      "              precision    recall  f1-score   support\n",
      "\n",
      "           0       0.87      1.00      0.93       250\n",
      "           2       1.00      0.86      0.92       250\n",
      "\n",
      "    accuracy                           0.93       500\n",
      "   macro avg       0.94      0.93      0.93       500\n",
      "weighted avg       0.94      0.93      0.93       500\n",
      "\n"
     ]
    }
   ],
   "source": [
    "y_lr15 = lr_model.predict(X_15)\n",
    "print(classification_report(y_15, y_lr15))"
   ]
  },
  {
   "cell_type": "code",
   "execution_count": 106,
   "metadata": {},
   "outputs": [
    {
     "name": "stdout",
     "output_type": "stream",
     "text": [
      "precision: [0.87412587 1.        ]\n",
      "recall: [1.    0.856]\n",
      "fscore: [0.93283582 0.92241379]\n",
      "support: [250 250]\n"
     ]
    }
   ],
   "source": [
    "from sklearn.metrics import precision_recall_fscore_support as score\n",
    "\n",
    "\n",
    "precision, recall, fscore, support = score(y_15, y_lr15)\n",
    "\n",
    "print('precision: {}'.format(precision))\n",
    "print('recall: {}'.format(recall))\n",
    "print('fscore: {}'.format(fscore))\n",
    "print('support: {}'.format(support))"
   ]
  },
  {
   "cell_type": "code",
   "execution_count": 107,
   "metadata": {},
   "outputs": [
    {
     "data": {
      "text/plain": [
       "0.928"
      ]
     },
     "execution_count": 107,
     "metadata": {},
     "output_type": "execute_result"
    }
   ],
   "source": [
    "accuracy_score(y_15, y_lr15)"
   ]
  },
  {
   "cell_type": "markdown",
   "metadata": {},
   "source": [
    "## 2. MLP"
   ]
  },
  {
   "cell_type": "code",
   "execution_count": 108,
   "metadata": {},
   "outputs": [
    {
     "name": "stdout",
     "output_type": "stream",
     "text": [
      "              precision    recall  f1-score   support\n",
      "\n",
      "           0       0.91      1.00      0.95       250\n",
      "           2       1.00      0.90      0.94       250\n",
      "\n",
      "    accuracy                           0.95       500\n",
      "   macro avg       0.95      0.95      0.95       500\n",
      "weighted avg       0.95      0.95      0.95       500\n",
      "\n"
     ]
    }
   ],
   "source": [
    "y_mlp15 = mlp_model.predict(X_15)\n",
    "print(classification_report(y_15, y_mlp15))"
   ]
  },
  {
   "cell_type": "code",
   "execution_count": 109,
   "metadata": {
    "scrolled": true
   },
   "outputs": [
    {
     "name": "stdout",
     "output_type": "stream",
     "text": [
      "precision: [0.90545455 0.99555556]\n",
      "recall: [0.996 0.896]\n",
      "fscore: [0.94857143 0.94315789]\n",
      "support: [250 250]\n"
     ]
    }
   ],
   "source": [
    "from sklearn.metrics import precision_recall_fscore_support as score\n",
    "\n",
    "\n",
    "precision, recall, fscore, support = score(y_15, y_mlp15)\n",
    "\n",
    "print('precision: {}'.format(precision))\n",
    "print('recall: {}'.format(recall))\n",
    "print('fscore: {}'.format(fscore))\n",
    "print('support: {}'.format(support))"
   ]
  },
  {
   "cell_type": "code",
   "execution_count": 110,
   "metadata": {},
   "outputs": [
    {
     "data": {
      "text/plain": [
       "0.946"
      ]
     },
     "execution_count": 110,
     "metadata": {},
     "output_type": "execute_result"
    }
   ],
   "source": [
    "accuracy_score(y_15, y_mlp15)"
   ]
  },
  {
   "cell_type": "markdown",
   "metadata": {},
   "source": [
    "# 3. Random Forest"
   ]
  },
  {
   "cell_type": "code",
   "execution_count": 111,
   "metadata": {},
   "outputs": [
    {
     "name": "stdout",
     "output_type": "stream",
     "text": [
      "              precision    recall  f1-score   support\n",
      "\n",
      "           0       0.93      0.99      0.96       250\n",
      "           2       0.99      0.92      0.95       250\n",
      "\n",
      "    accuracy                           0.96       500\n",
      "   macro avg       0.96      0.96      0.96       500\n",
      "weighted avg       0.96      0.96      0.96       500\n",
      "\n"
     ]
    }
   ],
   "source": [
    "y_rf15 = rf_model.predict(X_15)\n",
    "print(classification_report(y_15, y_rf15))"
   ]
  },
  {
   "cell_type": "code",
   "execution_count": 112,
   "metadata": {},
   "outputs": [
    {
     "name": "stdout",
     "output_type": "stream",
     "text": [
      "precision: [0.92537313 0.99137931]\n",
      "recall: [0.992 0.92 ]\n",
      "fscore: [0.95752896 0.95435685]\n",
      "support: [250 250]\n"
     ]
    }
   ],
   "source": [
    "from sklearn.metrics import precision_recall_fscore_support as score\n",
    "\n",
    "\n",
    "precision, recall, fscore, support = score(y_15, y_rf15)\n",
    "\n",
    "print('precision: {}'.format(precision))\n",
    "print('recall: {}'.format(recall))\n",
    "print('fscore: {}'.format(fscore))\n",
    "print('support: {}'.format(support))"
   ]
  },
  {
   "cell_type": "code",
   "execution_count": 113,
   "metadata": {},
   "outputs": [
    {
     "data": {
      "text/plain": [
       "0.956"
      ]
     },
     "execution_count": 113,
     "metadata": {},
     "output_type": "execute_result"
    }
   ],
   "source": [
    "accuracy_score(y_15, y_rf15)"
   ]
  },
  {
   "cell_type": "markdown",
   "metadata": {},
   "source": [
    "## 4. Voting "
   ]
  },
  {
   "cell_type": "code",
   "execution_count": 114,
   "metadata": {},
   "outputs": [
    {
     "name": "stdout",
     "output_type": "stream",
     "text": [
      "              precision    recall  f1-score   support\n",
      "\n",
      "           0       0.92      1.00      0.95       250\n",
      "           2       1.00      0.91      0.95       250\n",
      "\n",
      "    accuracy                           0.95       500\n",
      "   macro avg       0.96      0.95      0.95       500\n",
      "weighted avg       0.96      0.95      0.95       500\n",
      "\n"
     ]
    }
   ],
   "source": [
    "y_vt15 = eclf.predict(X_15)\n",
    "print(classification_report(y_15, y_vt15))"
   ]
  },
  {
   "cell_type": "code",
   "execution_count": 115,
   "metadata": {},
   "outputs": [
    {
     "data": {
      "text/plain": [
       "0.952"
      ]
     },
     "execution_count": 115,
     "metadata": {},
     "output_type": "execute_result"
    }
   ],
   "source": [
    "accuracy_score(y_15, y_vt15)"
   ]
  },
  {
   "cell_type": "code",
   "execution_count": 116,
   "metadata": {},
   "outputs": [
    {
     "name": "stdout",
     "output_type": "stream",
     "text": [
      "precision: [0.91544118 0.99561404]\n",
      "recall: [0.996 0.908]\n",
      "fscore: [0.95402299 0.94979079]\n",
      "support: [250 250]\n"
     ]
    }
   ],
   "source": [
    "from sklearn.metrics import precision_recall_fscore_support as score\n",
    "\n",
    "\n",
    "precision, recall, fscore, support = score(y_15, y_vt15)\n",
    "\n",
    "print('precision: {}'.format(precision))\n",
    "print('recall: {}'.format(recall))\n",
    "print('fscore: {}'.format(fscore))\n",
    "print('support: {}'.format(support))"
   ]
  },
  {
   "cell_type": "markdown",
   "metadata": {},
   "source": [
    "## Note: The evaluation plots can be seen in the testing notebook, "
   ]
  },
  {
   "cell_type": "markdown",
   "metadata": {},
   "source": [
    "# End !"
   ]
  }
 ],
 "metadata": {
  "kernelspec": {
   "display_name": "Python 3",
   "language": "python",
   "name": "python3"
  },
  "language_info": {
   "codemirror_mode": {
    "name": "ipython",
    "version": 3
   },
   "file_extension": ".py",
   "mimetype": "text/x-python",
   "name": "python",
   "nbconvert_exporter": "python",
   "pygments_lexer": "ipython3",
   "version": "3.7.6"
  }
 },
 "nbformat": 4,
 "nbformat_minor": 4
}
